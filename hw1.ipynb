{
 "cells": [
  {
   "cell_type": "markdown",
   "metadata": {},
   "source": [
    "# Homework 1 (HW1)\n",
    "\n",
    "---\n",
    "By the end of this homework we expect you to be able to:\n",
    "1. Load data from different formats using [pandas](https://pandas.pydata.org/);\n",
    "2. Navigate the documentation of Python packages by yourself;\n",
    "3. Filter and tidy up noisy data sets;\n",
    "4. Aggregate your data in different (and hopefully helpful) ways; \n",
    "5. Create meaningful visualizations to analyze the data;\n",
    "6. Critically think and write about data;\n",
    "---\n",
    "\n",
    "## Important Dates\n",
    "\n",
    "- Homework release: Fri 8 Oct 2021\n",
    "- **Homework due**: Fri 22 Oct 2021, 23:59\n",
    "- Grade release: Fri 29 Oct 2021\n",
    "\n",
    "---\n",
    "\n",
    "##  Some rules\n",
    "\n",
    "1. You are allowed to use any built-in Python library that comes with Anaconda. If you want to use an external library, \n",
    "you may do so, but must justify your choice.\n",
    "2. Make sure you use the `data` folder provided in the repository in read-only mode. (Or alternatively, be sure you \n",
    "don’t change any of the files.)\n",
    "3. Be sure to provide a textual description of your thought process, the assumptions you made, the solution you \n",
    "implemented, and explanations for your answers. A notebook that only has code cells will not suffice.\n",
    "4. For questions containing the **/Discuss:/** prefix, answer not with code, but with a textual explanation\n",
    " (**in markdown**).\n",
    "5. Back up any hypotheses and claims with data, since this is an important aspect of the course.\n",
    "6. Please write all your comments in English, and use meaningful variable names in your code. Your repo should have a \n",
    "single notebook (plus the required data files) in the *master/main* branch. If there are multiple notebooks present, \n",
    "we will **not grade** anything.\n",
    "7. We will **not run your notebook for you**! Rather, we will grade it as is, which means that only the results \n",
    "contained in your evaluated code cells will be considered, and we will not see the results in unevaluated code cells. \n",
    "Thus, be sure to hand in a **fully-run and evaluated notebook**. In order to check whether everything looks as intended,\n",
    " you can check the rendered notebook on the GitHub website once you have pushed your solution there.\n",
    "8. In continuation to the previous point, interactive plots, such as those generated using `plotly`, should be \n",
    "**strictly avoided**!\n",
    "9. Make sure to print results or dataframes that confirm you have properly addressed the task.\n",
    "\n",
    "---\n",
    "\n",
    "## Context\n",
    "\n",
    "In this project, we are going to analyze data from an experiment about *honesty*. \n",
    "Oftentimes, we are asked to confirm our honest intentions by signing **at the end** of a document. \n",
    "For example, in tax returns or insurance policy forms, we are often asked to sign our names under a text that reads \n",
    "something like \"I hereby certify that the above statements are true and correct to the best of my knowledge.\"\n",
    "\n",
    "However, when individuals sign **after** lying in the form, they may not feel the need to correct the falsehoods they \n",
    "have reported. In that context, it could be that signing at **the beginning** rather than at the end of the document \n",
    "would decrease dishonesty, as those who are filling the form would be aware of the ethical requirements *before* they \n",
    "provide the information in the form.\n",
    "\n",
    "This intuition has led researchers to partner up with a motorcycle insurance company to run a randomized experiment. \n",
    "In this insurance company (as well as in many others), customers had to report the exact *odometer kilometrage*¹ in \n",
    "order for the company to adjust the insurance premiums. Note that motorcycles with lower kilometrage are less likely to \n",
    "have issues, and thus will result in a lower *insurance premium*². Therefore, customers have an incentive to lie, \n",
    "reporting a kilometrage lower than the real value, in order to save money.\n",
    "\n",
    "In the experiment, two different forms were created: one where the signing was done at the end, and another where the \n",
    "signing was done at the beginning. The insurance company then randomized these forms (i.e., each customer received\n",
    " exactly one form, each with probability 50%) and sent back the data that customers had provided. Some noteworthy \n",
    " details on the experiment are that:\n",
    "\n",
    "- All customers involved in the experiment already had a contract with the company and were simply renewing it. \n",
    "In the data that the company provided, they also report the odometer kilometrage for their previous contract.\n",
    "Each policy, therefore, contains two contracts: the \"updated\" contract —where the experiment was conducted— and \n",
    "the \"baseline\" contract, which was the previous contract customers had with the company.\n",
    "- A single insurance policy can insure up to 4 distinct motorcycles.\n",
    "\n",
    "In this assignment, you will take the role of the researcher and work analyzing this data!\n",
    "\n",
    "*Glossary:*\n",
    "1. **odometer kilometrage:** the total distance the motorcycle has traveled.\n",
    "2. **insurance premiums:** the amount of money one pays for an insurance policy.\n",
    "\n",
    "---\n",
    "\n",
    "## The data\n",
    "\n",
    "The company provided you with a compressed `.tsv` file containing one row per policy. \n",
    "The `.tsv` has the following fields:\n",
    "\n",
    "- `condition`: either `Sign Top` or `Sign Bottom`, depending on which form was sent.\n",
    "- `id`: unique identifier for each insurance policy.\n",
    "- `motorcycle_count`: number of motorcycles covered by the insurance policy.\n",
    "- `baseline_motorcycle[1-4]`: odometer kilometrage *reported by the customer* in the *previous (baseline)* contract. \n",
    "- `update_motorcycle[1-4]`: odometer kilometrage *reported by the customer* in the *current (updated)* contract.\n",
    "\n",
    "Some comments:\n",
    "\n",
    "- Recall that a single policy can ensure up to 4 motorcycles, and thus, the suffixes [1-4] indicate that there are 4 \n",
    "versions of these columns in the data (e.g., `baseline_motorcycle1`, `baseline_motorcycle2`, `baseline_motorcycle3`, \n",
    "`baseline_motorcycle4`). \n",
    "- When a policy has fewer than 4 motorcycles, only the columns with the smaller numerals are filled (e.g., if a policy \n",
    "insures one motorcycle,  only `baseline_motorcycle1` and `update_motorcycle1` will be filled).\n",
    "- Note that we only have access to the odometer kilometrage reported by the customers, \n",
    "which may be different from the real kilometrage of the motorcycles."
   ]
  },
  {
   "cell_type": "code",
   "execution_count": 2,
   "metadata": {},
   "outputs": [],
   "source": [
    "# Imports you may need\n",
    "import seaborn as sns\n",
    "from IPython.display import display, HTML\n",
    "import matplotlib.pyplot as plt\n",
    "import scipy.stats as stats\n",
    "import pandas as pd\n",
    "import numpy as np"
   ]
  },
  {
   "cell_type": "markdown",
   "metadata": {},
   "source": [
    "### **Task 1** — 4pts\n",
    "\n",
    "Your first task is to load the dataset into memory using pandas. \n",
    "**You should load the data directly from the compressed files.**\n",
    "\n",
    "Here, the files at hand are rather small, and you could easily uncompress the files to disk and work with them as plain \n",
    "text. Why, then, are we asking you to load the files compressed? The reason is that, in your life as a data scientist, \n",
    "this will often not be the case. Then, working with compressed files is key so that you don't receive email from your \n",
    "(often more responsible) colleagues demanding to know how you have managed to fill the entire cluster with your \n",
    "datasets. Another big advantage of compressing files is to simply read files faster. You will often find that reading\n",
    "compressed data on the fly (uncompressing it as you go), is much faster than reading uncompressed data, since reading\n",
    "and writing to disk may be your [bottleneck](https://skipperkongen.dk/2012/02/28/uncompressed-versus-compressed-read/). \n",
    "\n",
    "---\n",
    "\n",
    "**Hint:** `pandas` can open compressed files.\n",
    "\n",
    "**Hint:** In the real world (and in ADA-homework), your file often comes with some weird lines! \n",
    "This time you can safely ignore them (but in the real world you must try to understand why they are there!). \n",
    "Check the `error_bad_lines` or the `on_bad_lines` (depending on your pandas version) parameter on `read_csv`."
   ]
  },
  {
   "cell_type": "markdown",
   "metadata": {},
   "source": [
    "### 1"
   ]
  },
  {
   "cell_type": "code",
   "execution_count": 3,
   "metadata": {},
   "outputs": [
    {
     "data": {
      "text/html": [
       "<div>\n",
       "<style scoped>\n",
       "    .dataframe tbody tr th:only-of-type {\n",
       "        vertical-align: middle;\n",
       "    }\n",
       "\n",
       "    .dataframe tbody tr th {\n",
       "        vertical-align: top;\n",
       "    }\n",
       "\n",
       "    .dataframe thead th {\n",
       "        text-align: right;\n",
       "    }\n",
       "</style>\n",
       "<table border=\"1\" class=\"dataframe\">\n",
       "  <thead>\n",
       "    <tr style=\"text-align: right;\">\n",
       "      <th></th>\n",
       "      <th>condition</th>\n",
       "      <th>id</th>\n",
       "      <th>baseline_motorcycle1</th>\n",
       "      <th>update_motorcycle1</th>\n",
       "      <th>baseline_motorcycle2</th>\n",
       "      <th>update_motorcycle2</th>\n",
       "      <th>baseline_motorcycle3</th>\n",
       "      <th>update_motorcycle3</th>\n",
       "      <th>baseline_motorcycle4</th>\n",
       "      <th>update_motorcycle4</th>\n",
       "      <th>motorcycle_count</th>\n",
       "    </tr>\n",
       "  </thead>\n",
       "  <tbody>\n",
       "    <tr>\n",
       "      <th>13494</th>\n",
       "      <td>Sign Bottom</td>\n",
       "      <td>13486</td>\n",
       "      <td>30700</td>\n",
       "      <td>32916</td>\n",
       "      <td>89680.0</td>\n",
       "      <td>139570.0</td>\n",
       "      <td>NaN</td>\n",
       "      <td>NaN</td>\n",
       "      <td>NaN</td>\n",
       "      <td>NaN</td>\n",
       "      <td>2</td>\n",
       "    </tr>\n",
       "    <tr>\n",
       "      <th>13495</th>\n",
       "      <td>Sign Top</td>\n",
       "      <td>13487</td>\n",
       "      <td>29884</td>\n",
       "      <td>35459</td>\n",
       "      <td>NaN</td>\n",
       "      <td>NaN</td>\n",
       "      <td>NaN</td>\n",
       "      <td>NaN</td>\n",
       "      <td>NaN</td>\n",
       "      <td>NaN</td>\n",
       "      <td>1</td>\n",
       "    </tr>\n",
       "    <tr>\n",
       "      <th>13496</th>\n",
       "      <td>Sign Top</td>\n",
       "      <td>13488</td>\n",
       "      <td>22930</td>\n",
       "      <td>37888</td>\n",
       "      <td>NaN</td>\n",
       "      <td>NaN</td>\n",
       "      <td>NaN</td>\n",
       "      <td>NaN</td>\n",
       "      <td>NaN</td>\n",
       "      <td>NaN</td>\n",
       "      <td>1</td>\n",
       "    </tr>\n",
       "  </tbody>\n",
       "</table>\n",
       "</div>"
      ],
      "text/plain": [
       "         condition     id  baseline_motorcycle1  update_motorcycle1  \\\n",
       "13494  Sign Bottom  13486                 30700               32916   \n",
       "13495     Sign Top  13487                 29884               35459   \n",
       "13496     Sign Top  13488                 22930               37888   \n",
       "\n",
       "       baseline_motorcycle2  update_motorcycle2  baseline_motorcycle3  \\\n",
       "13494               89680.0            139570.0                   NaN   \n",
       "13495                   NaN                 NaN                   NaN   \n",
       "13496                   NaN                 NaN                   NaN   \n",
       "\n",
       "       update_motorcycle3  baseline_motorcycle4  update_motorcycle4  \\\n",
       "13494                 NaN                   NaN                 NaN   \n",
       "13495                 NaN                   NaN                 NaN   \n",
       "13496                 NaN                   NaN                 NaN   \n",
       "\n",
       "       motorcycle_count  \n",
       "13494                 2  \n",
       "13495                 1  \n",
       "13496                 1  "
      ]
     },
     "execution_count": 3,
     "metadata": {},
     "output_type": "execute_result"
    }
   ],
   "source": [
    "# Load Data Frame \n",
    "# Using on_bad_lines because error_bad_lines is depreciated\n",
    "data1 = pd.read_csv('data/data.tsv.gz',sep = '\\t', compression='gzip', on_bad_lines='skip')\n",
    "# Make a copy of the data to ensure data is not changed (as instructed in the rules)\n",
    "data = data1.copy()\n",
    "# Show a part of the dataframe to ensure that its imported right\n",
    "data.tail(3)"
   ]
  },
  {
   "cell_type": "markdown",
   "metadata": {},
   "source": [
    "The dataframe looks right, but one row has been dropped due to bad_line."
   ]
  },
  {
   "cell_type": "markdown",
   "metadata": {},
   "source": [
    "### Task 2 — 12pts\n",
    "\n",
    "As a good data scientist, the first thing you do is to clean up the data and perform some small sanity checks.\n",
    "\n",
    "1. The motorcycle insurance company mentioned that each policy has a unique identifier, but that there may be duplicate \n",
    "rows (i.e., multiple rows with the same policy identifier). Check if there are duplicate policies and, if so, filter \n",
    "these rows from the data (always keeping the first).\n",
    "\n",
    "2. According to the company, all policies should have kept the number of motorcycles from the previous contract (i.e., \n",
    "the number of motorcycles recorded in baseline contracts should equal the number of motorcycles in updated contracts). \n",
    "Also, the number of odometer readings for each contract should be the same as the number stated in the \n",
    "`motorcycle_count` variable. Check the data to see if these two things hold. If not, filter the anomalous rows.\n",
    "\n",
    "3. Calculate the mean and the median value of each column related to kilometrages. Are the values obtained plausible? \n",
    "Visualize the distribution of the data and remove any extreme outliers.\n",
    "\n",
    "4. **Discuss:** In cases where you cannot think of appropriate ways to remove outliers, would you prefer summarizing \n",
    "numerical data with outliers with the mean or the median? Why?\n",
    "\n",
    "---\n",
    "\n",
    "**Hint:** Here we are considering as outliers numbers that are not plausible in the context of motorcycle kilometrages."
   ]
  },
  {
   "cell_type": "markdown",
   "metadata": {},
   "source": [
    "### 2.1\n",
    "\n",
    "Here we want to check if there are duplicates and remove them if they are present. \n",
    "\n",
    "Steps: \n",
    "\n",
    "1) We check FIRST if there is in fact duplicate rows by subtracting the length of the data from the number of distinct ids using the built-in pandas function \"nunique\". \n",
    "\n",
    "2) It was shown that there were 9 duplicates from step 1, so we removed them using the  built-in function 'drop_duplicates' by dropping rows in the DataFrame with duplicate \"ID\" rows, and always keeping the first row as instructed. \n",
    "\n",
    "3) We Checked at the end that there are no longer any duplicate rows for the ID column using the same method as in step 1."
   ]
  },
  {
   "cell_type": "code",
   "execution_count": 4,
   "metadata": {},
   "outputs": [
    {
     "name": "stdout",
     "output_type": "stream",
     "text": [
      "Number of duplicate rows : 9\n",
      "Number of duplicate rows after dropping : 0\n"
     ]
    }
   ],
   "source": [
    "# We check FIRST if there is in fact duplicate rows\n",
    "print('Number of duplicate rows :',len(data)- data['id'].nunique())\n",
    "# We keep the first row of the duplicate rows \n",
    "data.drop_duplicates(subset = 'id', keep = 'first',inplace = True)\n",
    "# We check if we removed all the duplicate rows\n",
    "print('Number of duplicate rows after dropping :',len(data)-data['id'].nunique())"
   ]
  },
  {
   "cell_type": "code",
   "execution_count": 5,
   "metadata": {},
   "outputs": [
    {
     "data": {
      "text/html": [
       "<div>\n",
       "<style scoped>\n",
       "    .dataframe tbody tr th:only-of-type {\n",
       "        vertical-align: middle;\n",
       "    }\n",
       "\n",
       "    .dataframe tbody tr th {\n",
       "        vertical-align: top;\n",
       "    }\n",
       "\n",
       "    .dataframe thead th {\n",
       "        text-align: right;\n",
       "    }\n",
       "</style>\n",
       "<table border=\"1\" class=\"dataframe\">\n",
       "  <thead>\n",
       "    <tr style=\"text-align: right;\">\n",
       "      <th></th>\n",
       "      <th>condition</th>\n",
       "      <th>id</th>\n",
       "      <th>baseline_motorcycle1</th>\n",
       "      <th>update_motorcycle1</th>\n",
       "      <th>baseline_motorcycle2</th>\n",
       "      <th>update_motorcycle2</th>\n",
       "      <th>baseline_motorcycle3</th>\n",
       "      <th>update_motorcycle3</th>\n",
       "      <th>baseline_motorcycle4</th>\n",
       "      <th>update_motorcycle4</th>\n",
       "      <th>motorcycle_count</th>\n",
       "    </tr>\n",
       "  </thead>\n",
       "  <tbody>\n",
       "    <tr>\n",
       "      <th>13494</th>\n",
       "      <td>Sign Bottom</td>\n",
       "      <td>13486</td>\n",
       "      <td>30700</td>\n",
       "      <td>32916</td>\n",
       "      <td>89680.0</td>\n",
       "      <td>139570.0</td>\n",
       "      <td>NaN</td>\n",
       "      <td>NaN</td>\n",
       "      <td>NaN</td>\n",
       "      <td>NaN</td>\n",
       "      <td>2</td>\n",
       "    </tr>\n",
       "    <tr>\n",
       "      <th>13495</th>\n",
       "      <td>Sign Top</td>\n",
       "      <td>13487</td>\n",
       "      <td>29884</td>\n",
       "      <td>35459</td>\n",
       "      <td>NaN</td>\n",
       "      <td>NaN</td>\n",
       "      <td>NaN</td>\n",
       "      <td>NaN</td>\n",
       "      <td>NaN</td>\n",
       "      <td>NaN</td>\n",
       "      <td>1</td>\n",
       "    </tr>\n",
       "    <tr>\n",
       "      <th>13496</th>\n",
       "      <td>Sign Top</td>\n",
       "      <td>13488</td>\n",
       "      <td>22930</td>\n",
       "      <td>37888</td>\n",
       "      <td>NaN</td>\n",
       "      <td>NaN</td>\n",
       "      <td>NaN</td>\n",
       "      <td>NaN</td>\n",
       "      <td>NaN</td>\n",
       "      <td>NaN</td>\n",
       "      <td>1</td>\n",
       "    </tr>\n",
       "  </tbody>\n",
       "</table>\n",
       "</div>"
      ],
      "text/plain": [
       "         condition     id  baseline_motorcycle1  update_motorcycle1  \\\n",
       "13494  Sign Bottom  13486                 30700               32916   \n",
       "13495     Sign Top  13487                 29884               35459   \n",
       "13496     Sign Top  13488                 22930               37888   \n",
       "\n",
       "       baseline_motorcycle2  update_motorcycle2  baseline_motorcycle3  \\\n",
       "13494               89680.0            139570.0                   NaN   \n",
       "13495                   NaN                 NaN                   NaN   \n",
       "13496                   NaN                 NaN                   NaN   \n",
       "\n",
       "       update_motorcycle3  baseline_motorcycle4  update_motorcycle4  \\\n",
       "13494                 NaN                   NaN                 NaN   \n",
       "13495                 NaN                   NaN                 NaN   \n",
       "13496                 NaN                   NaN                 NaN   \n",
       "\n",
       "       motorcycle_count  \n",
       "13494                 2  \n",
       "13495                 1  \n",
       "13496                 1  "
      ]
     },
     "execution_count": 5,
     "metadata": {},
     "output_type": "execute_result"
    }
   ],
   "source": [
    "# Check the dataframe\n",
    "data.tail(3)"
   ]
  },
  {
   "cell_type": "markdown",
   "metadata": {},
   "source": [
    "Note that after you load that cell, you can see that the index col is not updated (after dropping the 9 rows)\n",
    "\n",
    "So we will update this in the next cell for making life easy!"
   ]
  },
  {
   "cell_type": "code",
   "execution_count": 6,
   "metadata": {},
   "outputs": [
    {
     "data": {
      "text/html": [
       "<div>\n",
       "<style scoped>\n",
       "    .dataframe tbody tr th:only-of-type {\n",
       "        vertical-align: middle;\n",
       "    }\n",
       "\n",
       "    .dataframe tbody tr th {\n",
       "        vertical-align: top;\n",
       "    }\n",
       "\n",
       "    .dataframe thead th {\n",
       "        text-align: right;\n",
       "    }\n",
       "</style>\n",
       "<table border=\"1\" class=\"dataframe\">\n",
       "  <thead>\n",
       "    <tr style=\"text-align: right;\">\n",
       "      <th></th>\n",
       "      <th>condition</th>\n",
       "      <th>id</th>\n",
       "      <th>baseline_motorcycle1</th>\n",
       "      <th>update_motorcycle1</th>\n",
       "      <th>baseline_motorcycle2</th>\n",
       "      <th>update_motorcycle2</th>\n",
       "      <th>baseline_motorcycle3</th>\n",
       "      <th>update_motorcycle3</th>\n",
       "      <th>baseline_motorcycle4</th>\n",
       "      <th>update_motorcycle4</th>\n",
       "      <th>motorcycle_count</th>\n",
       "    </tr>\n",
       "  </thead>\n",
       "  <tbody>\n",
       "    <tr>\n",
       "      <th>13485</th>\n",
       "      <td>Sign Bottom</td>\n",
       "      <td>13486</td>\n",
       "      <td>30700</td>\n",
       "      <td>32916</td>\n",
       "      <td>89680.0</td>\n",
       "      <td>139570.0</td>\n",
       "      <td>NaN</td>\n",
       "      <td>NaN</td>\n",
       "      <td>NaN</td>\n",
       "      <td>NaN</td>\n",
       "      <td>2</td>\n",
       "    </tr>\n",
       "    <tr>\n",
       "      <th>13486</th>\n",
       "      <td>Sign Top</td>\n",
       "      <td>13487</td>\n",
       "      <td>29884</td>\n",
       "      <td>35459</td>\n",
       "      <td>NaN</td>\n",
       "      <td>NaN</td>\n",
       "      <td>NaN</td>\n",
       "      <td>NaN</td>\n",
       "      <td>NaN</td>\n",
       "      <td>NaN</td>\n",
       "      <td>1</td>\n",
       "    </tr>\n",
       "    <tr>\n",
       "      <th>13487</th>\n",
       "      <td>Sign Top</td>\n",
       "      <td>13488</td>\n",
       "      <td>22930</td>\n",
       "      <td>37888</td>\n",
       "      <td>NaN</td>\n",
       "      <td>NaN</td>\n",
       "      <td>NaN</td>\n",
       "      <td>NaN</td>\n",
       "      <td>NaN</td>\n",
       "      <td>NaN</td>\n",
       "      <td>1</td>\n",
       "    </tr>\n",
       "  </tbody>\n",
       "</table>\n",
       "</div>"
      ],
      "text/plain": [
       "         condition     id  baseline_motorcycle1  update_motorcycle1  \\\n",
       "13485  Sign Bottom  13486                 30700               32916   \n",
       "13486     Sign Top  13487                 29884               35459   \n",
       "13487     Sign Top  13488                 22930               37888   \n",
       "\n",
       "       baseline_motorcycle2  update_motorcycle2  baseline_motorcycle3  \\\n",
       "13485               89680.0            139570.0                   NaN   \n",
       "13486                   NaN                 NaN                   NaN   \n",
       "13487                   NaN                 NaN                   NaN   \n",
       "\n",
       "       update_motorcycle3  baseline_motorcycle4  update_motorcycle4  \\\n",
       "13485                 NaN                   NaN                 NaN   \n",
       "13486                 NaN                   NaN                 NaN   \n",
       "13487                 NaN                   NaN                 NaN   \n",
       "\n",
       "       motorcycle_count  \n",
       "13485                 2  \n",
       "13486                 1  \n",
       "13487                 1  "
      ]
     },
     "execution_count": 6,
     "metadata": {},
     "output_type": "execute_result"
    }
   ],
   "source": [
    "# We update the index col after dropping the 9 rows so that last index is 13488. \n",
    "# Create a new array with indices to be added to the data frame\n",
    "new_ind_arr = np.arange(data['baseline_motorcycle1'].size)\n",
    "# Convert it to a seires\n",
    "s = pd.Series(new_ind_arr)\n",
    "# Change index col \n",
    "data = data.set_index(s)\n",
    "# Check if it works!\n",
    "data.tail(3)"
   ]
  },
  {
   "cell_type": "markdown",
   "metadata": {},
   "source": [
    "The index is now updated."
   ]
  },
  {
   "cell_type": "markdown",
   "metadata": {},
   "source": [
    "### 2.2.1\n",
    "\n",
    "We First if check the number of motorcycles recorded in baseline contracts is \n",
    "equal the number of motorcycles in updated contracts.\n",
    "\n",
    "**We do that using the following steps:**\n",
    "\n",
    "1) Create two new data frames, one containing the baseline contracts (df1) and the containing the updated contracts(df2). Each data frame has 4 columns\n",
    "\n",
    "2) We get the total number of entries (or counts) in each data frame for each column. \n",
    "\n",
    "3) Subtract the count of updated motorcycles from the baseline motorcycle count"
   ]
  },
  {
   "cell_type": "code",
   "execution_count": 7,
   "metadata": {},
   "outputs": [
    {
     "name": "stdout",
     "output_type": "stream",
     "text": [
      "Difference between the number of baseline and updated contracts for each motorcycle: [0. 0. 0. 0.]\n"
     ]
    }
   ],
   "source": [
    "# Dataframe with baseline contacts\n",
    "df1 = data[['baseline_motorcycle1','baseline_motorcycle2','baseline_motorcycle3','baseline_motorcycle4']]\n",
    "# Dataframe with updated contacts\n",
    "df2 = data[['update_motorcycle1', 'update_motorcycle2','update_motorcycle3','update_motorcycle4']]\n",
    "\n",
    "# Get counts for each col\n",
    "count_baseline = df1.describe().iloc[0,:] \n",
    "# Get counts for each col\n",
    "count_update =df2.describe().iloc[0,:] \n",
    "\n",
    "print('Difference between the number of baseline and updated contracts for each motorcycle:', \n",
    "      np.array(count_baseline) - np.array(count_update))"
   ]
  },
  {
   "cell_type": "markdown",
   "metadata": {},
   "source": [
    "Hence, the number of motorcycles recorded in baseline contracts is equal to the number of motorcycles in updated contracts"
   ]
  },
  {
   "cell_type": "markdown",
   "metadata": {},
   "source": [
    "### 2.2.2\n",
    "\n",
    "We need to check if the number of odometer readings for each contract is the same as the number stated in the motorcycle_count variable. To do so, we need to do a for loop and compare the motorcycle count to the number of available policies for each row. But before doing so, we will do a simple test first to check the totals using the following steps: \n",
    "\n",
    "1) Group the motor cycle count and calculate the total number of polices for each of the four possibilities [1-4].\n",
    "\n",
    "2) calculate the total number of motorcycles in each column (excluding nans)\n",
    "\n",
    "3) compare the totals in step 1 and 2"
   ]
  },
  {
   "cell_type": "code",
   "execution_count": 8,
   "metadata": {
    "scrolled": true
   },
   "outputs": [
    {
     "name": "stdout",
     "output_type": "stream",
     "text": [
      "motorcycle_count\n",
      "1    7060\n",
      "2    5649\n",
      "3     735\n",
      "4      44\n",
      "Name: id, dtype: int64\n",
      "baseline_motorcycle1    7840.0\n",
      "baseline_motorcycle2    4371.0\n",
      "baseline_motorcycle3     951.0\n",
      "baseline_motorcycle4     326.0\n",
      "Name: count, dtype: float64\n"
     ]
    }
   ],
   "source": [
    "# get counts for each col baseline and subtract so that you don't count twice\n",
    "count_baseline = ( df1.describe().iloc[0,:] - np.array([np.sum(df1.describe().iloc[0,1]), np.sum(df1.describe().iloc[0,2]), df1.describe().iloc[0,3], 0]))\n",
    "# get counts for each col updated \n",
    "count_update = ( df2.describe().iloc[0,:] - np.array([np.sum(df1.describe().iloc[0,1]), np.sum(df1.describe().iloc[0,2]), df1.describe().iloc[0,3], 0])) \n",
    "\n",
    "motorcycle = data.groupby('motorcycle_count')['id'].nunique() \n",
    "print(motorcycle)\n",
    "print(count_baseline)"
   ]
  },
  {
   "cell_type": "markdown",
   "metadata": {},
   "source": [
    "From the last cell, we realized that the totals do not agree. We inspected the data frame to try and find the problem and we found out that there is a small error in the data set, which is that for some entries, \n",
    "the number of odometer counts is 2 for example, but motorcycles 1 and 4 are registered instead of 1 and 2. We decided to filter out these rows before we proceed because it is stated in the given description of the data set that :\n",
    "\n",
    "\"When a policy has fewer than 4 motorcycles, only the columns with the smaller numerals are filled \n",
    "(e.g., if a policy insures one motorcycle, only baseline_motorcycle1 and update_motorcycle1 will be filled)\"\n",
    "\n",
    "Although it is not stated for the instruction in task 2 to do so, we remove these rows because of the sentence mentioned above. We did this using a function that we wrote **remove_anomalies**:"
   ]
  },
  {
   "cell_type": "code",
   "execution_count": 9,
   "metadata": {},
   "outputs": [],
   "source": [
    "def remove_anomalies(df):\n",
    "# Function used to remove anomalies of wrong motorcycle number in the dataset \n",
    "    # Inputs:\n",
    "    # df - Data frame to be filtered\n",
    "    \n",
    "    # Outputs:\n",
    "    # arr - indicies indacating the row positions to be dropped\n",
    "  \n",
    "    # Get boolean mask for missing values\n",
    "    bools = df.isnull() \n",
    "    \n",
    "    n = df['baseline_motorcycle1'].size\n",
    "    # Array to be updated with the row number of the anomalies\n",
    "    arr = [] \n",
    "    \n",
    "    # Loop over the whole column\n",
    "    for x in range(n): \n",
    "        # Get count\n",
    "        ii = df['motorcycle_count'].iloc[x] \n",
    "        string_in_string = 'baseline_motorcycle{}'.format(ii) \n",
    "        \n",
    "        # Check if the value is present or missing\n",
    "        if (bools[string_in_string].iloc[x] == True): \n",
    "            arr = np.append(arr,x) \n",
    "        if (ii==3):\n",
    "            ii = df['motorcycle_count'].iloc[x]\n",
    "            string_in_string = 'baseline_motorcycle{}'.format(ii-1)\n",
    "            if (bools[string_in_string].iloc[x] == True):\n",
    "                arr = np.append(arr,x)\n",
    "        arr = np.unique(arr)\n",
    "    return arr"
   ]
  },
  {
   "cell_type": "code",
   "execution_count": 10,
   "metadata": {},
   "outputs": [],
   "source": [
    "# Remove anomalies\n",
    "arr = remove_anomalies(data)\n",
    "# Drop anomalies\n",
    "data = data.drop(labels = arr, axis=0) "
   ]
  },
  {
   "cell_type": "markdown",
   "metadata": {},
   "source": [
    "After removing the anomalies, we decided to again to check the totals and see if they agree now. "
   ]
  },
  {
   "cell_type": "code",
   "execution_count": 11,
   "metadata": {},
   "outputs": [
    {
     "name": "stdout",
     "output_type": "stream",
     "text": [
      "motorcycle_count\n",
      "1    7060\n",
      "2    4889\n",
      "3     605\n",
      "4      44\n",
      "Name: id, dtype: int64\n",
      "baseline_motorcycle1    7060.0\n",
      "baseline_motorcycle2    4889.0\n",
      "baseline_motorcycle3     605.0\n",
      "baseline_motorcycle4      44.0\n",
      "Name: count, dtype: float64\n"
     ]
    }
   ],
   "source": [
    "df1 = data[['baseline_motorcycle1','baseline_motorcycle2','baseline_motorcycle3','baseline_motorcycle4']] \n",
    "df2 = data[['update_motorcycle1', 'update_motorcycle2','update_motorcycle3','update_motorcycle4']]\n",
    "\n",
    "count_baseline = ( df1.describe().iloc[0,:] - np.array([np.sum(df1.describe().iloc[0,1]), np.sum(df1.describe().iloc[0,2]), df1.describe().iloc[0,3], 0])) \n",
    "count_update = ( df2.describe().iloc[0,:] - np.array([np.sum(df1.describe().iloc[0,1]), np.sum(df1.describe().iloc[0,2]), df1.describe().iloc[0,3], 0]))  \n",
    "motorcycle = data.groupby('motorcycle_count')['id'].nunique() \n",
    "print(motorcycle)\n",
    "print(count_baseline)"
   ]
  },
  {
   "cell_type": "markdown",
   "metadata": {},
   "source": [
    "Now, the total number of odometer readings for each contract is equal to the total number stated in the motorcycle_count for each policy\n",
    "\n",
    "After removing the corrupted lines mentioned in the last cells, we thought that even though the totals are now the same,  there could still be errors in some rows that could cancel out at the end. So to be sure, we created another function called check_count to check that the number of odometer readings for each contract is the same as the number stated in the motorcycle_count."
   ]
  },
  {
   "cell_type": "code",
   "execution_count": 12,
   "metadata": {},
   "outputs": [],
   "source": [
    "\"\"\" \n",
    "This function checks if the number of motorcycle counts is equal/different to the number of motorcycles mentioned. \n",
    "If they are the same it will print \"All good\" and return an empty array. \n",
    "If they are not the same, it will print \"Not good\" and return an array with the indices of the wrong rows.\n",
    "\"\"\"\n",
    "\n",
    "def check_count(df):\n",
    "    # Function used to remove anaomilies in the dataset \n",
    "    # Inputs:\n",
    "    # df - Data frame to be filtered\n",
    "    \n",
    "    # Outputs:\n",
    "    # arr - indices indacating the row positions to be dropped\n",
    "  \n",
    "    # Get boolean mask for missing values\n",
    "    bools = df.isnull() \n",
    "    n = df['baseline_motorcycle1'].size\n",
    "    \n",
    "    # Array to be updated with the row number of the anomalies\n",
    "    arr = [] \n",
    "    for x in range(n):\n",
    "        ii = df['motorcycle_count'].iloc[x]\n",
    "        for jj in range(ii):\n",
    "            kk = jj + 1\n",
    "            string_in_string = 'baseline_motorcycle{}'.format(ii)\n",
    "            if (bools[string_in_string].iloc[x] == True):\n",
    "                arr = np.append(arr,x)            \n",
    "    arr = np.unique(arr)\n",
    "    if (len(arr)==0):\n",
    "        print(\"All good\")\n",
    "    else:\n",
    "        print(\"Not good\")\n",
    "    return arr"
   ]
  },
  {
   "cell_type": "code",
   "execution_count": 13,
   "metadata": {},
   "outputs": [
    {
     "name": "stdout",
     "output_type": "stream",
     "text": [
      "All good\n"
     ]
    }
   ],
   "source": [
    "arr2 = check_count(data)"
   ]
  },
  {
   "cell_type": "markdown",
   "metadata": {},
   "source": [
    "It prints all good, so now task 2.2 is finished, but again we have to update the index list as in task 2.1,  becaue of the dropped rows (using function remove_anomalies)"
   ]
  },
  {
   "cell_type": "code",
   "execution_count": 14,
   "metadata": {},
   "outputs": [
    {
     "data": {
      "text/html": [
       "<div>\n",
       "<style scoped>\n",
       "    .dataframe tbody tr th:only-of-type {\n",
       "        vertical-align: middle;\n",
       "    }\n",
       "\n",
       "    .dataframe tbody tr th {\n",
       "        vertical-align: top;\n",
       "    }\n",
       "\n",
       "    .dataframe thead th {\n",
       "        text-align: right;\n",
       "    }\n",
       "</style>\n",
       "<table border=\"1\" class=\"dataframe\">\n",
       "  <thead>\n",
       "    <tr style=\"text-align: right;\">\n",
       "      <th></th>\n",
       "      <th>condition</th>\n",
       "      <th>id</th>\n",
       "      <th>baseline_motorcycle1</th>\n",
       "      <th>update_motorcycle1</th>\n",
       "      <th>baseline_motorcycle2</th>\n",
       "      <th>update_motorcycle2</th>\n",
       "      <th>baseline_motorcycle3</th>\n",
       "      <th>update_motorcycle3</th>\n",
       "      <th>baseline_motorcycle4</th>\n",
       "      <th>update_motorcycle4</th>\n",
       "      <th>motorcycle_count</th>\n",
       "    </tr>\n",
       "  </thead>\n",
       "  <tbody>\n",
       "    <tr>\n",
       "      <th>12595</th>\n",
       "      <td>Sign Bottom</td>\n",
       "      <td>13486</td>\n",
       "      <td>30700</td>\n",
       "      <td>32916</td>\n",
       "      <td>89680.0</td>\n",
       "      <td>139570.0</td>\n",
       "      <td>NaN</td>\n",
       "      <td>NaN</td>\n",
       "      <td>NaN</td>\n",
       "      <td>NaN</td>\n",
       "      <td>2</td>\n",
       "    </tr>\n",
       "    <tr>\n",
       "      <th>12596</th>\n",
       "      <td>Sign Top</td>\n",
       "      <td>13487</td>\n",
       "      <td>29884</td>\n",
       "      <td>35459</td>\n",
       "      <td>NaN</td>\n",
       "      <td>NaN</td>\n",
       "      <td>NaN</td>\n",
       "      <td>NaN</td>\n",
       "      <td>NaN</td>\n",
       "      <td>NaN</td>\n",
       "      <td>1</td>\n",
       "    </tr>\n",
       "    <tr>\n",
       "      <th>12597</th>\n",
       "      <td>Sign Top</td>\n",
       "      <td>13488</td>\n",
       "      <td>22930</td>\n",
       "      <td>37888</td>\n",
       "      <td>NaN</td>\n",
       "      <td>NaN</td>\n",
       "      <td>NaN</td>\n",
       "      <td>NaN</td>\n",
       "      <td>NaN</td>\n",
       "      <td>NaN</td>\n",
       "      <td>1</td>\n",
       "    </tr>\n",
       "  </tbody>\n",
       "</table>\n",
       "</div>"
      ],
      "text/plain": [
       "         condition     id  baseline_motorcycle1  update_motorcycle1  \\\n",
       "12595  Sign Bottom  13486                 30700               32916   \n",
       "12596     Sign Top  13487                 29884               35459   \n",
       "12597     Sign Top  13488                 22930               37888   \n",
       "\n",
       "       baseline_motorcycle2  update_motorcycle2  baseline_motorcycle3  \\\n",
       "12595               89680.0            139570.0                   NaN   \n",
       "12596                   NaN                 NaN                   NaN   \n",
       "12597                   NaN                 NaN                   NaN   \n",
       "\n",
       "       update_motorcycle3  baseline_motorcycle4  update_motorcycle4  \\\n",
       "12595                 NaN                   NaN                 NaN   \n",
       "12596                 NaN                   NaN                 NaN   \n",
       "12597                 NaN                   NaN                 NaN   \n",
       "\n",
       "       motorcycle_count  \n",
       "12595                 2  \n",
       "12596                 1  \n",
       "12597                 1  "
      ]
     },
     "execution_count": 14,
     "metadata": {},
     "output_type": "execute_result"
    }
   ],
   "source": [
    "# To update index list\n",
    "new_ind_arr = np.arange(data['baseline_motorcycle1'].size) \n",
    "s = pd.Series(new_ind_arr)\n",
    "data = data.set_index(s)\n",
    "# To check that the data is right\n",
    "data.tail(3)"
   ]
  },
  {
   "cell_type": "markdown",
   "metadata": {},
   "source": [
    "The number of odometer readings for each contract is the same as the number stated in the motorcycle_count"
   ]
  },
  {
   "cell_type": "markdown",
   "metadata": {},
   "source": [
    "### 2.3\n",
    "\n",
    "For 2.3, we calculate the median and mean for the data using pandas built in function describe."
   ]
  },
  {
   "cell_type": "code",
   "execution_count": 15,
   "metadata": {},
   "outputs": [
    {
     "name": "stdout",
     "output_type": "stream",
     "text": [
      "Mean of baseline_motorcycle1 : 793776790033811.88  Median value of baseline_motorcycle1 : 56000.00\n",
      "Mean of update_motorcycle1   : 793776790058878.25  Median value of update_motorcycle1   : 82188.50\n",
      "Mean of baseline_motorcycle2 : 67531.30  Median value of baseline_motorcycle2 : 56141.00\n",
      "Mean of update_motorcycle2   : 92489.32  Median value of update_motorcycle2   : 82119.00\n",
      "Mean of baseline_motorcycle3 : 71206.08  Median value of baseline_motorcycle3 : 62932.00\n",
      "Mean of update_motorcycle3   : 95797.86  Median value of update_motorcycle3   : 90602.00\n",
      "Mean of baseline_motorcycle4 : 105434.39  Median value of baseline_motorcycle4 : 105271.00\n",
      "Mean of update_motorcycle4   : 132059.73  Median value of update_motorcycle4   : 136092.00\n"
     ]
    }
   ],
   "source": [
    "# Print the means and median values: \n",
    "print ('Mean of baseline_motorcycle1 : %.2f' %data.describe().iloc[1,1] ,' Median value of baseline_motorcycle1 : %.2f' %data.describe().iloc[5,1])\n",
    "print ('Mean of update_motorcycle1   : %.2f' %data.describe().iloc[1,2] ,' Median value of update_motorcycle1   : %.2f' %data.describe().iloc[5,2])\n",
    "print ('Mean of baseline_motorcycle2 : %.2f' %data.describe().iloc[1,3] ,' Median value of baseline_motorcycle2 : %.2f' %data.describe().iloc[5,3])\n",
    "print ('Mean of update_motorcycle2   : %.2f' %data.describe().iloc[1,4] ,' Median value of update_motorcycle2   : %.2f' %data.describe().iloc[5,4])\n",
    "print ('Mean of baseline_motorcycle3 : %.2f' %data.describe().iloc[1,5] ,' Median value of baseline_motorcycle3 : %.2f' %data.describe().iloc[5,5])\n",
    "print ('Mean of update_motorcycle3   : %.2f' %data.describe().iloc[1,6] ,' Median value of update_motorcycle3   : %.2f' %data.describe().iloc[5,6])\n",
    "print ('Mean of baseline_motorcycle4 : %.2f' %data.describe().iloc[1,7] ,' Median value of baseline_motorcycle4 : %.2f' %data.describe().iloc[5,7])\n",
    "print ('Mean of update_motorcycle4   : %.2f' %data.describe().iloc[1,8] ,' Median value of update_motorcycle4   : %.2f' %data.describe().iloc[5,8])"
   ]
  },
  {
   "cell_type": "markdown",
   "metadata": {},
   "source": [
    "The values are not plausible as there is a very big difference between the median and the mean for most columns, especially for baseline_motorcycle1 and update_motorcycle1. The high means of baseline_motorcycle1 and update_motorcycle1 are clearly affected by implausible high values which dominate the mean. The mean is not robust to these outlies, therefore they have to be removed. But before we remove the outliers, we plot the box plot to see them more clearly."
   ]
  },
  {
   "cell_type": "code",
   "execution_count": 16,
   "metadata": {},
   "outputs": [
    {
     "data": {
      "text/plain": [
       "Text(0.5, 1.0, 'Box plots of each column')"
      ]
     },
     "execution_count": 16,
     "metadata": {},
     "output_type": "execute_result"
    },
    {
     "data": {
      "image/png": "[encoded data removed]",
      "text/plain": [
       "<Figure size 1224x720 with 1 Axes>"
      ]
     },
     "metadata": {
      "needs_background": "light"
     },
     "output_type": "display_data"
    }
   ],
   "source": [
    "# Visualize the distribution of the data to see any extreme outliers \n",
    "\n",
    "bplot = data.boxplot(column= ['baseline_motorcycle1','update_motorcycle1','baseline_motorcycle2',\n",
    "                              'update_motorcycle2','baseline_motorcycle3','update_motorcycle3','baseline_motorcycle4',\n",
    "                              'update_motorcycle4'],figsize=[17,10])\n",
    "\n",
    "bplot.set_xlabel(\"Types\",fontweight ='bold')\n",
    "bplot.set_ylabel(\"Meter readings (KM)\",fontweight ='bold')\n",
    "bplot.set_title(\"Box plots of each column\",fontweight ='bold')"
   ]
  },
  {
   "cell_type": "markdown",
   "metadata": {},
   "source": [
    "It is clear from the boxplot that there are implausible values in the first two columns at 1e^19 km.\n",
    "\n",
    "These values must be removed."
   ]
  },
  {
   "cell_type": "code",
   "execution_count": 17,
   "metadata": {},
   "outputs": [
    {
     "data": {
      "text/plain": [
       "Text(0.5, 1.0, 'Box plots of each column')"
      ]
     },
     "execution_count": 17,
     "metadata": {},
     "output_type": "execute_result"
    },
    {
     "data": {
      "image/png": "[encoded data removed]",
      "text/plain": [
       "<Figure size 1224x720 with 1 Axes>"
      ]
     },
     "metadata": {
      "needs_background": "light"
     },
     "output_type": "display_data"
    }
   ],
   "source": [
    "# There are very large values at baseline and update1, so we remove all values that are bigger than 10**18\n",
    "data = data.loc[(data.loc[:,'baseline_motorcycle1': 'update_motorcycle4'].fillna(0)< 10**18).all(axis=1)]\n",
    "\n",
    "# Visualize the distribution of the data to check if there are more implausible outliers\n",
    "\n",
    "bplot = data.boxplot(column= ['baseline_motorcycle1','update_motorcycle1','baseline_motorcycle2',\n",
    "                              'update_motorcycle2','baseline_motorcycle3','update_motorcycle3','baseline_motorcycle4',\n",
    "                              'update_motorcycle4'],figsize=[17,10])\n",
    "\n",
    "bplot.set_xlabel(\"Types\",fontweight ='bold')\n",
    "bplot.set_ylabel(\"Meter readings (KM)\",fontweight ='bold')\n",
    "bplot.set_title(\"Box plots of each column\",fontweight ='bold')"
   ]
  },
  {
   "cell_type": "markdown",
   "metadata": {},
   "source": [
    "Here, the are still outliers as shown in the boxplot above, for example, the points shown at $1e^{6}$. Although we believe that it is unlikely for a motorcycle to travel 1 million kilometers and that it is highly unlikely that a motorcycle that traveled 1 million kilometers will get insured in the first place (will be very expensive), we will not remove them as we do not have a strong reason that this is the case (it is not mentioned anywhere that a motorcycle with a million km will not get insured). We believe that the owner here might have added an extra zero, but we do not have any proof. On the other side, all updated values are larger than the baseline_values, which means the same motorcycle had 2 high values which makes it more unlikely to be an added zero. **So to sum up, we do not remove these large values**"
   ]
  },
  {
   "cell_type": "code",
   "execution_count": 18,
   "metadata": {
    "scrolled": true
   },
   "outputs": [
    {
     "data": {
      "text/html": [
       "<div>\n",
       "<style scoped>\n",
       "    .dataframe tbody tr th:only-of-type {\n",
       "        vertical-align: middle;\n",
       "    }\n",
       "\n",
       "    .dataframe tbody tr th {\n",
       "        vertical-align: top;\n",
       "    }\n",
       "\n",
       "    .dataframe thead th {\n",
       "        text-align: right;\n",
       "    }\n",
       "</style>\n",
       "<table border=\"1\" class=\"dataframe\">\n",
       "  <thead>\n",
       "    <tr style=\"text-align: right;\">\n",
       "      <th></th>\n",
       "      <th>condition</th>\n",
       "      <th>id</th>\n",
       "      <th>baseline_motorcycle1</th>\n",
       "      <th>update_motorcycle1</th>\n",
       "      <th>baseline_motorcycle2</th>\n",
       "      <th>update_motorcycle2</th>\n",
       "      <th>baseline_motorcycle3</th>\n",
       "      <th>update_motorcycle3</th>\n",
       "      <th>baseline_motorcycle4</th>\n",
       "      <th>update_motorcycle4</th>\n",
       "      <th>motorcycle_count</th>\n",
       "    </tr>\n",
       "  </thead>\n",
       "  <tbody>\n",
       "    <tr>\n",
       "      <th>0</th>\n",
       "      <td>Sign Top</td>\n",
       "      <td>1</td>\n",
       "      <td>896</td>\n",
       "      <td>39198</td>\n",
       "      <td>NaN</td>\n",
       "      <td>NaN</td>\n",
       "      <td>NaN</td>\n",
       "      <td>NaN</td>\n",
       "      <td>NaN</td>\n",
       "      <td>NaN</td>\n",
       "      <td>1</td>\n",
       "    </tr>\n",
       "    <tr>\n",
       "      <th>1</th>\n",
       "      <td>Sign Bottom</td>\n",
       "      <td>2</td>\n",
       "      <td>21396</td>\n",
       "      <td>63511</td>\n",
       "      <td>32659.0</td>\n",
       "      <td>47605.0</td>\n",
       "      <td>NaN</td>\n",
       "      <td>NaN</td>\n",
       "      <td>NaN</td>\n",
       "      <td>NaN</td>\n",
       "      <td>2</td>\n",
       "    </tr>\n",
       "    <tr>\n",
       "      <th>2</th>\n",
       "      <td>Sign Bottom</td>\n",
       "      <td>3</td>\n",
       "      <td>21340</td>\n",
       "      <td>37460</td>\n",
       "      <td>44998.0</td>\n",
       "      <td>59002.0</td>\n",
       "      <td>NaN</td>\n",
       "      <td>NaN</td>\n",
       "      <td>NaN</td>\n",
       "      <td>NaN</td>\n",
       "      <td>2</td>\n",
       "    </tr>\n",
       "    <tr>\n",
       "      <th>3</th>\n",
       "      <td>Sign Bottom</td>\n",
       "      <td>4</td>\n",
       "      <td>23912</td>\n",
       "      <td>59136</td>\n",
       "      <td>NaN</td>\n",
       "      <td>NaN</td>\n",
       "      <td>NaN</td>\n",
       "      <td>NaN</td>\n",
       "      <td>NaN</td>\n",
       "      <td>NaN</td>\n",
       "      <td>1</td>\n",
       "    </tr>\n",
       "    <tr>\n",
       "      <th>4</th>\n",
       "      <td>Sign Bottom</td>\n",
       "      <td>5</td>\n",
       "      <td>16862</td>\n",
       "      <td>59292</td>\n",
       "      <td>NaN</td>\n",
       "      <td>NaN</td>\n",
       "      <td>NaN</td>\n",
       "      <td>NaN</td>\n",
       "      <td>NaN</td>\n",
       "      <td>NaN</td>\n",
       "      <td>1</td>\n",
       "    </tr>\n",
       "    <tr>\n",
       "      <th>...</th>\n",
       "      <td>...</td>\n",
       "      <td>...</td>\n",
       "      <td>...</td>\n",
       "      <td>...</td>\n",
       "      <td>...</td>\n",
       "      <td>...</td>\n",
       "      <td>...</td>\n",
       "      <td>...</td>\n",
       "      <td>...</td>\n",
       "      <td>...</td>\n",
       "      <td>...</td>\n",
       "    </tr>\n",
       "    <tr>\n",
       "      <th>12591</th>\n",
       "      <td>Sign Bottom</td>\n",
       "      <td>13483</td>\n",
       "      <td>32050</td>\n",
       "      <td>33346</td>\n",
       "      <td>NaN</td>\n",
       "      <td>NaN</td>\n",
       "      <td>NaN</td>\n",
       "      <td>NaN</td>\n",
       "      <td>NaN</td>\n",
       "      <td>NaN</td>\n",
       "      <td>1</td>\n",
       "    </tr>\n",
       "    <tr>\n",
       "      <th>12592</th>\n",
       "      <td>Sign Top</td>\n",
       "      <td>13484</td>\n",
       "      <td>20970</td>\n",
       "      <td>61552</td>\n",
       "      <td>42391.0</td>\n",
       "      <td>46815.0</td>\n",
       "      <td>NaN</td>\n",
       "      <td>NaN</td>\n",
       "      <td>NaN</td>\n",
       "      <td>NaN</td>\n",
       "      <td>2</td>\n",
       "    </tr>\n",
       "    <tr>\n",
       "      <th>12593</th>\n",
       "      <td>Sign Bottom</td>\n",
       "      <td>13486</td>\n",
       "      <td>30700</td>\n",
       "      <td>32916</td>\n",
       "      <td>89680.0</td>\n",
       "      <td>139570.0</td>\n",
       "      <td>NaN</td>\n",
       "      <td>NaN</td>\n",
       "      <td>NaN</td>\n",
       "      <td>NaN</td>\n",
       "      <td>2</td>\n",
       "    </tr>\n",
       "    <tr>\n",
       "      <th>12594</th>\n",
       "      <td>Sign Top</td>\n",
       "      <td>13487</td>\n",
       "      <td>29884</td>\n",
       "      <td>35459</td>\n",
       "      <td>NaN</td>\n",
       "      <td>NaN</td>\n",
       "      <td>NaN</td>\n",
       "      <td>NaN</td>\n",
       "      <td>NaN</td>\n",
       "      <td>NaN</td>\n",
       "      <td>1</td>\n",
       "    </tr>\n",
       "    <tr>\n",
       "      <th>12595</th>\n",
       "      <td>Sign Top</td>\n",
       "      <td>13488</td>\n",
       "      <td>22930</td>\n",
       "      <td>37888</td>\n",
       "      <td>NaN</td>\n",
       "      <td>NaN</td>\n",
       "      <td>NaN</td>\n",
       "      <td>NaN</td>\n",
       "      <td>NaN</td>\n",
       "      <td>NaN</td>\n",
       "      <td>1</td>\n",
       "    </tr>\n",
       "  </tbody>\n",
       "</table>\n",
       "<p>12596 rows × 11 columns</p>\n",
       "</div>"
      ],
      "text/plain": [
       "         condition     id  baseline_motorcycle1  update_motorcycle1  \\\n",
       "0         Sign Top      1                   896               39198   \n",
       "1      Sign Bottom      2                 21396               63511   \n",
       "2      Sign Bottom      3                 21340               37460   \n",
       "3      Sign Bottom      4                 23912               59136   \n",
       "4      Sign Bottom      5                 16862               59292   \n",
       "...            ...    ...                   ...                 ...   \n",
       "12591  Sign Bottom  13483                 32050               33346   \n",
       "12592     Sign Top  13484                 20970               61552   \n",
       "12593  Sign Bottom  13486                 30700               32916   \n",
       "12594     Sign Top  13487                 29884               35459   \n",
       "12595     Sign Top  13488                 22930               37888   \n",
       "\n",
       "       baseline_motorcycle2  update_motorcycle2  baseline_motorcycle3  \\\n",
       "0                       NaN                 NaN                   NaN   \n",
       "1                   32659.0             47605.0                   NaN   \n",
       "2                   44998.0             59002.0                   NaN   \n",
       "3                       NaN                 NaN                   NaN   \n",
       "4                       NaN                 NaN                   NaN   \n",
       "...                     ...                 ...                   ...   \n",
       "12591                   NaN                 NaN                   NaN   \n",
       "12592               42391.0             46815.0                   NaN   \n",
       "12593               89680.0            139570.0                   NaN   \n",
       "12594                   NaN                 NaN                   NaN   \n",
       "12595                   NaN                 NaN                   NaN   \n",
       "\n",
       "       update_motorcycle3  baseline_motorcycle4  update_motorcycle4  \\\n",
       "0                     NaN                   NaN                 NaN   \n",
       "1                     NaN                   NaN                 NaN   \n",
       "2                     NaN                   NaN                 NaN   \n",
       "3                     NaN                   NaN                 NaN   \n",
       "4                     NaN                   NaN                 NaN   \n",
       "...                   ...                   ...                 ...   \n",
       "12591                 NaN                   NaN                 NaN   \n",
       "12592                 NaN                   NaN                 NaN   \n",
       "12593                 NaN                   NaN                 NaN   \n",
       "12594                 NaN                   NaN                 NaN   \n",
       "12595                 NaN                   NaN                 NaN   \n",
       "\n",
       "       motorcycle_count  \n",
       "0                     1  \n",
       "1                     2  \n",
       "2                     2  \n",
       "3                     1  \n",
       "4                     1  \n",
       "...                 ...  \n",
       "12591                 1  \n",
       "12592                 2  \n",
       "12593                 2  \n",
       "12594                 1  \n",
       "12595                 1  \n",
       "\n",
       "[12596 rows x 11 columns]"
      ]
     },
     "execution_count": 18,
     "metadata": {},
     "output_type": "execute_result"
    }
   ],
   "source": [
    "# Again, update index list after dropping rows\n",
    "new_ind_arr = np.arange(data['baseline_motorcycle1'].size) \n",
    "s = pd.Series(new_ind_arr)\n",
    "data = data.set_index(s)\n",
    "data"
   ]
  },
  {
   "cell_type": "markdown",
   "metadata": {},
   "source": [
    "### 2.4\n",
    "\n",
    "If there are outliers present in the data, then it is better to summarize the data numerically using the median. This is because the mean is not robust to outliers, which means that the value of the mean can be distorted by outliers, unlike the median. This is highlighted in task 2.3, where the mean was very large before removing the outliers for baseline_motorcycle1 and update_motorcycle1 columns, unlike the median whose value did not change dramatically after the removal of the outliers. "
   ]
  },
  {
   "cell_type": "markdown",
   "metadata": {},
   "source": [
    "### Task 3 — 12pts\n",
    "\n",
    "One of the challenges with the current data is that it is not clear how to handle policies with multiple motorcycles.\n",
    "\n",
    "1. Create three additional columns in the dataframe, `baseline_average`, `update_average`, and `diff_average`. These \n",
    "should contain, respectively, the average value for `baseline_motorcycle[1-4]` for all motorcycles insured; the average\n",
    " value for `update_motorcycle[1-4]`; and the difference between the average updated value and the average baseline \n",
    " value.\n",
    "2. **Discuss:** Propose another way of aggregating distinct motorcycles from a single policy. Point out a way in which \n",
    "this aggregation may be either better or worse than taking the average for the purpose of comparing the two scenarios in\n",
    " the study (sign at the top vs. sign at the bottom).\n",
    "3. To get a sense of the impact that policies with multiple motorcycles may have in the study, let's perform some \n",
    "additional analyses. Plot the distribution of motorcycles per policy in the data. Your plot should allow for the \n",
    "meaningful comparison of the values shown.\n",
    "4. In 3.1, you calculated the average kilometrage for each policy for the updated contract. Calculate the mean and the \n",
    "standard deviation of these values (which should be in the column `update_average`).\n",
    "5. Another meaningful metric is the average kilometrage **per motorcycle**, not distinguishing motorcycles in different \n",
    "policies (i.e., pooled across policies). **Considering only policies with 4 motorcycles insured,** calculate the mean \n",
    "and the standard deviation of the kilometrage per motorcycle in the updated contract.\n",
    "6. **Discuss:** To analyze whether signing at the top decreases dishonesty, we could consider the data in different \n",
    "ways. We could first calculate the average value per motorcycle within each policy and have one data point per policy \n",
    "**or** we could analyze the data at the motorcycle level and have one data point per motorcycle in the dataset. \n",
    "According to questions 3.4 and 3.5, how may this decision influence the results of the study?\n",
    "---"
   ]
  },
  {
   "cell_type": "markdown",
   "metadata": {},
   "source": [
    "### 3.1\n",
    "\n",
    "In task 3.1 it is asked to calculate baseline_average, update_average, and diff_average. We do this using the built-in function mean to get the mean value of each row (policy) for the baseline and updated contracts. Then we subtract the baseline mean from the updated mean to get a positive difference."
   ]
  },
  {
   "cell_type": "code",
   "execution_count": 19,
   "metadata": {},
   "outputs": [
    {
     "data": {
      "text/html": [
       "<div>\n",
       "<style scoped>\n",
       "    .dataframe tbody tr th:only-of-type {\n",
       "        vertical-align: middle;\n",
       "    }\n",
       "\n",
       "    .dataframe tbody tr th {\n",
       "        vertical-align: top;\n",
       "    }\n",
       "\n",
       "    .dataframe thead th {\n",
       "        text-align: right;\n",
       "    }\n",
       "</style>\n",
       "<table border=\"1\" class=\"dataframe\">\n",
       "  <thead>\n",
       "    <tr style=\"text-align: right;\">\n",
       "      <th></th>\n",
       "      <th>condition</th>\n",
       "      <th>id</th>\n",
       "      <th>baseline_motorcycle1</th>\n",
       "      <th>update_motorcycle1</th>\n",
       "      <th>baseline_motorcycle2</th>\n",
       "      <th>update_motorcycle2</th>\n",
       "      <th>baseline_motorcycle3</th>\n",
       "      <th>update_motorcycle3</th>\n",
       "      <th>baseline_motorcycle4</th>\n",
       "      <th>update_motorcycle4</th>\n",
       "      <th>motorcycle_count</th>\n",
       "      <th>baseline_average</th>\n",
       "      <th>update_average</th>\n",
       "      <th>diff_average</th>\n",
       "    </tr>\n",
       "  </thead>\n",
       "  <tbody>\n",
       "    <tr>\n",
       "      <th>0</th>\n",
       "      <td>Sign Top</td>\n",
       "      <td>1</td>\n",
       "      <td>896</td>\n",
       "      <td>39198</td>\n",
       "      <td>NaN</td>\n",
       "      <td>NaN</td>\n",
       "      <td>NaN</td>\n",
       "      <td>NaN</td>\n",
       "      <td>NaN</td>\n",
       "      <td>NaN</td>\n",
       "      <td>1</td>\n",
       "      <td>896.0</td>\n",
       "      <td>39198.0</td>\n",
       "      <td>38302.0</td>\n",
       "    </tr>\n",
       "    <tr>\n",
       "      <th>1</th>\n",
       "      <td>Sign Bottom</td>\n",
       "      <td>2</td>\n",
       "      <td>21396</td>\n",
       "      <td>63511</td>\n",
       "      <td>32659.0</td>\n",
       "      <td>47605.0</td>\n",
       "      <td>NaN</td>\n",
       "      <td>NaN</td>\n",
       "      <td>NaN</td>\n",
       "      <td>NaN</td>\n",
       "      <td>2</td>\n",
       "      <td>27027.5</td>\n",
       "      <td>55558.0</td>\n",
       "      <td>28530.5</td>\n",
       "    </tr>\n",
       "    <tr>\n",
       "      <th>2</th>\n",
       "      <td>Sign Bottom</td>\n",
       "      <td>3</td>\n",
       "      <td>21340</td>\n",
       "      <td>37460</td>\n",
       "      <td>44998.0</td>\n",
       "      <td>59002.0</td>\n",
       "      <td>NaN</td>\n",
       "      <td>NaN</td>\n",
       "      <td>NaN</td>\n",
       "      <td>NaN</td>\n",
       "      <td>2</td>\n",
       "      <td>33169.0</td>\n",
       "      <td>48231.0</td>\n",
       "      <td>15062.0</td>\n",
       "    </tr>\n",
       "    <tr>\n",
       "      <th>3</th>\n",
       "      <td>Sign Bottom</td>\n",
       "      <td>4</td>\n",
       "      <td>23912</td>\n",
       "      <td>59136</td>\n",
       "      <td>NaN</td>\n",
       "      <td>NaN</td>\n",
       "      <td>NaN</td>\n",
       "      <td>NaN</td>\n",
       "      <td>NaN</td>\n",
       "      <td>NaN</td>\n",
       "      <td>1</td>\n",
       "      <td>23912.0</td>\n",
       "      <td>59136.0</td>\n",
       "      <td>35224.0</td>\n",
       "    </tr>\n",
       "    <tr>\n",
       "      <th>4</th>\n",
       "      <td>Sign Bottom</td>\n",
       "      <td>5</td>\n",
       "      <td>16862</td>\n",
       "      <td>59292</td>\n",
       "      <td>NaN</td>\n",
       "      <td>NaN</td>\n",
       "      <td>NaN</td>\n",
       "      <td>NaN</td>\n",
       "      <td>NaN</td>\n",
       "      <td>NaN</td>\n",
       "      <td>1</td>\n",
       "      <td>16862.0</td>\n",
       "      <td>59292.0</td>\n",
       "      <td>42430.0</td>\n",
       "    </tr>\n",
       "  </tbody>\n",
       "</table>\n",
       "</div>"
      ],
      "text/plain": [
       "     condition  id  baseline_motorcycle1  update_motorcycle1  \\\n",
       "0     Sign Top   1                   896               39198   \n",
       "1  Sign Bottom   2                 21396               63511   \n",
       "2  Sign Bottom   3                 21340               37460   \n",
       "3  Sign Bottom   4                 23912               59136   \n",
       "4  Sign Bottom   5                 16862               59292   \n",
       "\n",
       "   baseline_motorcycle2  update_motorcycle2  baseline_motorcycle3  \\\n",
       "0                   NaN                 NaN                   NaN   \n",
       "1               32659.0             47605.0                   NaN   \n",
       "2               44998.0             59002.0                   NaN   \n",
       "3                   NaN                 NaN                   NaN   \n",
       "4                   NaN                 NaN                   NaN   \n",
       "\n",
       "   update_motorcycle3  baseline_motorcycle4  update_motorcycle4  \\\n",
       "0                 NaN                   NaN                 NaN   \n",
       "1                 NaN                   NaN                 NaN   \n",
       "2                 NaN                   NaN                 NaN   \n",
       "3                 NaN                   NaN                 NaN   \n",
       "4                 NaN                   NaN                 NaN   \n",
       "\n",
       "   motorcycle_count  baseline_average  update_average  diff_average  \n",
       "0                 1             896.0         39198.0       38302.0  \n",
       "1                 2           27027.5         55558.0       28530.5  \n",
       "2                 2           33169.0         48231.0       15062.0  \n",
       "3                 1           23912.0         59136.0       35224.0  \n",
       "4                 1           16862.0         59292.0       42430.0  "
      ]
     },
     "execution_count": 19,
     "metadata": {},
     "output_type": "execute_result"
    }
   ],
   "source": [
    "avg_base = data[['baseline_motorcycle1', 'baseline_motorcycle2','baseline_motorcycle3','baseline_motorcycle4']].mean(axis=1)\n",
    "avg_upd = data[['update_motorcycle1', 'update_motorcycle2','update_motorcycle3','update_motorcycle4']].mean(axis=1)\n",
    "diff = avg_upd - avg_base \n",
    "\n",
    "data['baseline_average'] = avg_base\n",
    "data['update_average'] = avg_upd\n",
    "data['diff_average'] = diff\n",
    "data.head(5)"
   ]
  },
  {
   "cell_type": "markdown",
   "metadata": {},
   "source": [
    "### 3.2\n",
    "Taking the maximum value of the odometer kilometrage of distinct motorcycles from a single policy (maximum distance traveled in a single policy) could be another way to aggregate the data. This could provide a more interesting insight that the mean/average as it was mentioned in the data description provided that:\n",
    "\n",
    "Motorcycles with lower kilometrage are less likely to have issues, and thus will result in a lower insurance premium. Therefore, customers have an incentive to lie, reporting a kilometrage lower than the real value, in order to save money.\n",
    "\n",
    "Hence, lying is more likely for motorcycles with higher meter readings than lower and accordingly, if the maximum is taken, it can show the result of the study (sign at the top vs. sign at the bottom) more clearly.\n"
   ]
  },
  {
   "cell_type": "markdown",
   "metadata": {},
   "source": [
    "### 3.3 \n",
    "\n",
    "Here we want to plot the distribution of motorcycles per policy, so we plot a histogram of the column motorcycle count, as it will show how many motorcycles are present in each policy."
   ]
  },
  {
   "cell_type": "code",
   "execution_count": 20,
   "metadata": {},
   "outputs": [
    {
     "data": {
      "text/plain": [
       "Text(0, 0.5, 'Number of policies')"
      ]
     },
     "execution_count": 20,
     "metadata": {},
     "output_type": "execute_result"
    },
    {
     "data": {
      "image/png": "[encoded data removed]",
      "text/plain": [
       "<Figure size 576x432 with 1 Axes>"
      ]
     },
     "metadata": {
      "needs_background": "light"
     },
     "output_type": "display_data"
    }
   ],
   "source": [
    "plt.figure(figsize=(8,6))\n",
    "plt.hist(data['motorcycle_count'])\n",
    "plt.title('Distribution of motorcycles per policy',fontweight ='bold')\n",
    "plt.xlabel('Number of motorcycles per policy',fontweight ='bold')\n",
    "plt.ylabel('Number of policies',fontweight ='bold')"
   ]
  },
  {
   "cell_type": "markdown",
   "metadata": {},
   "source": [
    "From the figure above, we see that policies with one or two motocyles dominate the data set.\n",
    "\n",
    "Moreover, policies with one motorcycle alone accounts for more than half of the samples in the data set."
   ]
  },
  {
   "cell_type": "markdown",
   "metadata": {},
   "source": [
    "### 3.4\n",
    "\n",
    "Here, we are tasked with calculating the mean and the standard deviation for the average kilometrage for each policy for the updated contract. We did this by calculating the mean and standard deviation of the column update_average that was calculated in section 3.1. This was done using the built-in pandas functions mean and std."
   ]
  },
  {
   "cell_type": "code",
   "execution_count": 21,
   "metadata": {},
   "outputs": [
    {
     "name": "stdout",
     "output_type": "stream",
     "text": [
      "Mean value of the column update_average 92204.34 \n",
      "Standard deviation of the column update_average 53013.21\n"
     ]
    }
   ],
   "source": [
    "mean_updated = data['update_average'].mean()\n",
    "std_updated = data['update_average'].std()\n",
    "\n",
    "print(\"Mean value of the column update_average %.2f \" %mean_updated)\n",
    "print(\"Standard deviation of the column update_average %.2f\" %std_updated)"
   ]
  },
  {
   "cell_type": "code",
   "execution_count": 22,
   "metadata": {},
   "outputs": [
    {
     "data": {
      "text/plain": [
       "(12596,)"
      ]
     },
     "execution_count": 22,
     "metadata": {},
     "output_type": "execute_result"
    }
   ],
   "source": [
    "data['update_average'].shape"
   ]
  },
  {
   "cell_type": "markdown",
   "metadata": {},
   "source": [
    "### 3.5\n",
    "\n",
    "To get the average kilometrage per motorcycle value, we extract all the policies with 4 motorcycles, flatten the array and calculate the mean."
   ]
  },
  {
   "cell_type": "code",
   "execution_count": 23,
   "metadata": {},
   "outputs": [
    {
     "name": "stdout",
     "output_type": "stream",
     "text": [
      "Mean value of the kilometrage per motorcycle in the updated contract 113443.86 \n",
      "Standard deviation of the kilometrage per motorcycle in the updated contract 82911.91\n"
     ]
    }
   ],
   "source": [
    "data_only4 = data[data['motorcycle_count']==4]\n",
    "\n",
    "data_only4_upd = data_only4[['update_motorcycle1', 'update_motorcycle2','update_motorcycle3','update_motorcycle4']]\n",
    "\n",
    "\n",
    "data_only4_upd\n",
    "\n",
    "ALL_vals = data_only4_upd.values\n",
    "ALL_vals = ALL_vals.flatten('C')\n",
    "\n",
    "mean_kilo_per = ALL_vals.mean()\n",
    "std_kilo_per = ALL_vals.std()\n",
    "\n",
    "print(\"Mean value of the kilometrage per motorcycle in the updated contract %.2f \" %mean_kilo_per)\n",
    "print(\"Standard deviation of the kilometrage per motorcycle in the updated contract %.2f\" %std_kilo_per)"
   ]
  },
  {
   "cell_type": "markdown",
   "metadata": {},
   "source": [
    "### 3.6\n",
    "\n",
    "To answer question 3.6, we decided first to plot the mean values of both methods and their respective error bars"
   ]
  },
  {
   "cell_type": "code",
   "execution_count": 24,
   "metadata": {},
   "outputs": [
    {
     "name": "stdout",
     "output_type": "stream",
     "text": [
      "p-value is 0.000000088 which is smaller than 0.05, so difference is significant between the two methods\n"
     ]
    },
    {
     "data": {
      "image/png": "[encoded data removed]",
      "text/plain": [
       "<Figure size 432x288 with 1 Axes>"
      ]
     },
     "metadata": {
      "needs_background": "light"
     },
     "output_type": "display_data"
    }
   ],
   "source": [
    "x_pos = np.arange(2)\n",
    "labels = ['One data point per policy', 'One data point per motorcycle']\n",
    "\n",
    "ax = sns.barplot( data=[data['update_average'], ALL_vals])\n",
    "ax.set_ylabel('Meter readings (KM)')\n",
    "ax.set_xticks(x_pos)\n",
    "ax.set_xticklabels(labels)\n",
    "ax.set_title('Comparison between the two methods')\n",
    "ax.yaxis.grid(True)\n",
    "\n",
    "# Note: You need the latest scipy version to run this or you will get an error for the alternative arguent \n",
    "# Try pip install --upgrade scipy --user (in anaconda prompt) if you do not have the latest scipy version\n",
    "[s,pvalue] = stats.ttest_ind(data['update_average'], ALL_vals,nan_policy='omit', alternative=\"less\")\n",
    "print(\"p-value is %.9f\" %pvalue, \"which is smaller than 0.05, so difference is significant between the two methods\")"
   ]
  },
  {
   "cell_type": "markdown",
   "metadata": {},
   "source": [
    "**From the figure above** (comparing One data point per policy or One data point per motorcycle) **We can see that using the first method to analyze the data (one data point per policy) has a lower mean meter reading than the second method (One data point per motorcycle) as the error bars do not over lap. To asses this further, we computed a test and the p-value was smaller than 0.05, so the difference is significant between the two methods.**"
   ]
  },
  {
   "cell_type": "markdown",
   "metadata": {},
   "source": [
    "### Task 4 — 18pts\n",
    "\n",
    "Now that we have compressed the kilometrage reported in each contract into a single number, it is time to analyze the \n",
    "million-dollar question: *does signing at the top decrease dishonesty?*\n",
    "\n",
    "1. Considering the updated contracts, calculate the mean and the standard deviation of the average kilometrage in a) \n",
    "policies where the signing was done at the bottom; and b) policies where the signing was done at the top. Additionally,\n",
    "plot the two kilometrage distributions.\n",
    "2. Determine whether the difference between the two scenarios mentioned in 1. is statistically significant.\n",
    "3. **Discuss:** Recall that the assignment of the different contracts (*sign at the top* vs. *sign at the bottom*) was \n",
    "done at random. According to the results in 1. and 2., does signing at the top decrease dishonesty? \n",
    "4.  **Discuss:** Given that no intervention was performed in the baseline contract (i.e., everyone signed at the \n",
    "bottom). Would you expect any differences between the average values between *sign at the top* vs. *sign at the bottom*\n",
    " conditions for the baseline contract? Note that this is related to columns `baseline_motorcycle[1-4]`.\n",
    "5. Calculate the mean and the standard deviation for the baseline contracts of the two groups (sign at the top vs. sign \n",
    "at the bottom). Additionally, plot the two kilometrage distributions.\n",
    "6. Determine whether the difference between the two scenarios mentioned in 5. is statistically significant.\n",
    "\n",
    "---\n",
    "\n",
    "**Hint:** Recall that the column `condition` encodes the experimental condition in which the customer fell when \n",
    "reporting the values shown in columns `update_motorcycle[1-4]`!\n",
    "\n",
    "**Hint:** To determine if the means of two sets of data are significantly different from each other, you may want to use\n",
    " the `ttest_ind` function implemented in the \n",
    " [scipy library](https://docs.scipy.org/doc/scipy/reference/generated/scipy.stats.ttest_ind.html). To learn more about \n",
    " Student's t-test, check out this [Wikipedia page](https://en.wikipedia.org/wiki/Student%27s_t-test)."
   ]
  },
  {
   "cell_type": "markdown",
   "metadata": {},
   "source": [
    "### 4.1 \n",
    "\n",
    "We are supposed to calculate the mean and std of the average kilometrage in the updated policies where:\n",
    "\n",
    "a) signing was done at the bottom\n",
    "\n",
    "b) signing was done at the top\n",
    "\n",
    "Then we should plot the kilometrage distribution.\n",
    "\n",
    "We start by making one dataframe for sign top and one for sign bottom. The mean and std would each be a single number for each of the dataframes. Then we plot a histogram of the distribution of kilometrages in each of the dataframes and a boxplot to see the outliers more clearly."
   ]
  },
  {
   "cell_type": "code",
   "execution_count": 25,
   "metadata": {},
   "outputs": [
    {
     "name": "stdout",
     "output_type": "stream",
     "text": [
      "sign top mean: 85831.56234664578\n",
      "sign bottom mean: 98755.65578543443\n",
      "sign top std: 52463.502733460504\n",
      "sign bottom std: 52780.44051386049\n"
     ]
    }
   ],
   "source": [
    "# Drops all unrelevant rows for sign at top and sign at bot respectivly\n",
    "signTop = data.drop(data[data.condition == \"Sign Bottom\"].index)\n",
    "signBottom = data.drop(data[data.condition == \"Sign Top\"].index)\n",
    "\n",
    "# Made a dataframe for the sign at top update average column\n",
    "signTopUpdate = signTop['update_average']\n",
    "# The same for sign at bot\n",
    "signBottomUpdate = signBottom['update_average']\n",
    "\n",
    "# The means of the sign top and sign bottom for the updated average\n",
    "signTopUpdateMean= signTopUpdate.mean()\n",
    "print('sign top mean:', signTopUpdateMean)\n",
    "signBottomUpdateMean = signBottomUpdate.mean()\n",
    "print('sign bottom mean:', signBottomUpdateMean)\n",
    "\n",
    "# The standard deviations of the sign top and sign bottom updated average\n",
    "signTopUpdateStd= signTopUpdate.std()\n",
    "print('sign top std:', signTopUpdateStd)\n",
    "signBottomUpdateStd = signBottomUpdate.std()\n",
    "print('sign bottom std:', signBottomUpdateStd)"
   ]
  },
  {
   "cell_type": "code",
   "execution_count": 26,
   "metadata": {},
   "outputs": [
    {
     "data": {
      "image/png": "[encoded data removed]",
      "text/plain": [
       "<Figure size 432x288 with 1 Axes>"
      ]
     },
     "metadata": {
      "needs_background": "light"
     },
     "output_type": "display_data"
    },
    {
     "data": {
      "image/png": "[encoded data removed]",
      "text/plain": [
       "<Figure size 432x288 with 1 Axes>"
      ]
     },
     "metadata": {
      "needs_background": "light"
     },
     "output_type": "display_data"
    }
   ],
   "source": [
    "# Plot kilometre distribution\n",
    "# Put the bins in range to make sure they have equal width and not get messed up by high values in one of the categories\n",
    "signTopUpdate.plot.hist(bins=range(0, 1000000 + 10000, 10000), alpha=0.4)\n",
    "signBottomUpdate.plot.hist(bins=range(0, 1000000 + 10000, 10000), alpha=0.4)\n",
    "plt.title('Kilometrage distribution in updated average')\n",
    "plt.legend(['Top','Bottom'])\n",
    "plt.xlabel('Kilometrage')\n",
    "plt.ylabel('Frequency')\n",
    "plt.show()\n",
    "\n",
    "# Renames the axis to distinguish the boxplots\n",
    "signTopUpdate.rename(\"Sign top\", axis=1, inplace=True)\n",
    "signBottomUpdate.rename(\"Sign bottom\", axis=1, inplace=True)\n",
    "\n",
    "# Plot boxplot for distribution\n",
    "boxpltUpdate = pd.concat([signTopUpdate,signBottomUpdate], axis=1)\n",
    "boxpltUpdate.plot.box()\n",
    "plt.title('Kilometrage distribution in updated average')\n",
    "plt.xlabel('Kilometrage')\n",
    "plt.ylabel('Frequency')\n",
    "plt.show()"
   ]
  },
  {
   "cell_type": "markdown",
   "metadata": {},
   "source": [
    "### 4.2.1\n",
    "\n",
    "Our hypothesis is that sign top will be higher than sign bottom, so we do a one tailed t-test "
   ]
  },
  {
   "cell_type": "code",
   "execution_count": 27,
   "metadata": {},
   "outputs": [
    {
     "data": {
      "text/plain": [
       "Ttest_indResult(statistic=-13.781419842683748, pvalue=1.0)"
      ]
     },
     "execution_count": 27,
     "metadata": {},
     "output_type": "execute_result"
    }
   ],
   "source": [
    "stats.ttest_ind(signTopUpdate,signBottomUpdate,nan_policy='omit', alternative=\"greater\")"
   ]
  },
  {
   "cell_type": "markdown",
   "metadata": {},
   "source": [
    "The p-value is very large (pval=1), so there is no significant difference "
   ]
  },
  {
   "cell_type": "markdown",
   "metadata": {},
   "source": [
    "### 4.2.2\n",
    "\n",
    "We repeat the t-test but now it is double tailed "
   ]
  },
  {
   "cell_type": "code",
   "execution_count": 28,
   "metadata": {},
   "outputs": [
    {
     "data": {
      "text/plain": [
       "Ttest_indResult(statistic=-13.781419842683748, pvalue=3.374833468956993e-43)"
      ]
     },
     "execution_count": 28,
     "metadata": {},
     "output_type": "execute_result"
    }
   ],
   "source": [
    "stats.ttest_ind(signTopUpdate,signBottomUpdate,nan_policy='omit', alternative='less')"
   ]
  },
  {
   "cell_type": "markdown",
   "metadata": {},
   "source": [
    "The p-value is very small (smaller than 0.05), which means that the difference is significant.\n",
    "From 4.2.1 and 4.2.2, it shows that those who signed at the bottom had higher odometer readings than those who signed at the top."
   ]
  },
  {
   "cell_type": "markdown",
   "metadata": {},
   "source": [
    "### 4.3\n",
    "From the results of 4.1 and 4.2, we can see that that signing at the top does not decrease dishonesty (Results of 4.2.1) as we expected those who signed at the top will report higher odometer readings.\n",
    "\n",
    "However, we see in 4.2 that the difference is statistically significant, so that means that signing at the bottom had higher odometer readings, opposite to what we expected. \n",
    "\n",
    "\n",
    "### 4.4\n",
    "Since there was no intervention in the baseline contract, we expect there to be little to no difference in the average values of the baseline kilometrage for a sign at the top and a sign at the bottom."
   ]
  },
  {
   "cell_type": "markdown",
   "metadata": {},
   "source": [
    "### 4.5\n",
    "\n",
    "The task is very similar to 4.1, but this time we look at the baseline_average for sign at top and sign at bottom"
   ]
  },
  {
   "cell_type": "code",
   "execution_count": 29,
   "metadata": {},
   "outputs": [
    {
     "name": "stdout",
     "output_type": "stream",
     "text": [
      "sign top mean: 59721.24066823283\n",
      "sign bottom mean: 75145.23797831805\n",
      "sign top std: 50724.67068673372\n",
      "sign bottom std: 51115.69467292577\n"
     ]
    }
   ],
   "source": [
    "# Takes the 'baseline_average' of the sign top and sign bottom dataframes\n",
    "# Make a dataframe for the sign at top baseline average column\n",
    "signTopBaseline = signTop['baseline_average']\n",
    "# The same for sign at bottom\n",
    "signBottomBaseline = signBottom['baseline_average']\n",
    "\n",
    "# The means of the sign top and sign bottom baseline average\n",
    "signTopBaselineMean= signTopBaseline.mean()\n",
    "print('sign top mean:', signTopBaselineMean)\n",
    "signBottomBaselineMean = signBottomBaseline.mean()\n",
    "print('sign bottom mean:', signBottomBaselineMean)\n",
    "\n",
    "# The standard deviations of the sign top and sign bottom baseline average\n",
    "signTopBaselineStd= signTopBaseline.std()\n",
    "print('sign top std:', signTopBaselineStd)\n",
    "signBottomBaselineStd = signBottomBaseline.std()\n",
    "print('sign bottom std:', signBottomBaselineStd)"
   ]
  },
  {
   "cell_type": "code",
   "execution_count": 30,
   "metadata": {},
   "outputs": [
    {
     "data": {
      "image/png": "[encoded data removed]",
      "text/plain": [
       "<Figure size 432x288 with 1 Axes>"
      ]
     },
     "metadata": {
      "needs_background": "light"
     },
     "output_type": "display_data"
    },
    {
     "data": {
      "image/png": "[encoded data removed]",
      "text/plain": [
       "<Figure size 432x288 with 1 Axes>"
      ]
     },
     "metadata": {
      "needs_background": "light"
     },
     "output_type": "display_data"
    }
   ],
   "source": [
    "# Plot kilometre distribution\n",
    "# Put the bins in range to make sure they have equal width and not get messed up by high values in one of the categories\n",
    "signTopBaseline.plot.hist(bins=range(0, 1000000 + 10000, 10000), alpha=0.4)\n",
    "signBottomBaseline.plot.hist(bins=range(0, 1000000 + 10000, 10000), alpha=0.4)\n",
    "plt.title('Kilometrage distribution in baseline average')\n",
    "plt.legend(['Top','Bottom'])\n",
    "plt.xlabel('Kilometrage')\n",
    "plt.ylabel('Frequency')\n",
    "plt.show()\n",
    "\n",
    "# Renames the axis to distinguish the boxplots\n",
    "signTopBaseline.rename(\"Sign top\", axis=1, inplace=True)\n",
    "signBottomBaseline.rename(\"Sign bottom\", axis=1, inplace=True)\n",
    "# Plot boxplot for distribution\n",
    "boxpltBase = pd.concat([signTopBaseline,signBottomBaseline], axis=1)\n",
    "boxpltBase.plot.box()\n",
    "plt.title('Kilometrage distribution in baseline average')\n",
    "plt.xlabel('Kilometrage')\n",
    "plt.ylabel('Frequency')\n",
    "plt.show()"
   ]
  },
  {
   "cell_type": "markdown",
   "metadata": {},
   "source": [
    "### 4.6.1"
   ]
  },
  {
   "cell_type": "code",
   "execution_count": 31,
   "metadata": {},
   "outputs": [
    {
     "data": {
      "text/plain": [
       "Ttest_indResult(statistic=-16.9969781183719, pvalue=1.0)"
      ]
     },
     "execution_count": 31,
     "metadata": {},
     "output_type": "execute_result"
    }
   ],
   "source": [
    "stats.ttest_ind(signTopBaseline,signBottomBaseline,nan_policy='omit', alternative='greater')"
   ]
  },
  {
   "cell_type": "markdown",
   "metadata": {},
   "source": [
    "The p-value is very large (pval=1), so there is no significant difference "
   ]
  },
  {
   "cell_type": "markdown",
   "metadata": {},
   "source": [
    "### 4.6.2\n",
    "\n",
    "We repeat the t-test but now it is double tailed "
   ]
  },
  {
   "cell_type": "code",
   "execution_count": 32,
   "metadata": {},
   "outputs": [
    {
     "name": "stdout",
     "output_type": "stream",
     "text": [
      "p-value = 2.235786248096221e-64\n"
     ]
    }
   ],
   "source": [
    "[s,pvalue] = stats.ttest_ind(signTopBaseline,signBottomBaseline,nan_policy='omit', alternative='less')\n",
    "print(\"p-value =\",pvalue)"
   ]
  },
  {
   "cell_type": "markdown",
   "metadata": {},
   "source": [
    "The p-value is very small (smaller than 0.05), which means that the difference is significant\n",
    "\n",
    "Again the p-value is very low, which indicates that there is a statistical significance between the data and that those who signed at the bottom reported higher values, which does not make sense since there were no interventions with baseline contracts. Another thing that caught our attention is that we clearly see that the plots are very different for the first bin, where sign at the top is way higher."
   ]
  },
  {
   "cell_type": "markdown",
   "metadata": {},
   "source": [
    "## Interlude: Something is dodgy about this data...\n",
    "\n",
    "---\n",
    "\n",
    "Noticing the oddities in the data, you send an email to your contact at the insurance company asking about the integrity\n",
    " of the data. Their reply seems like something out of a detective movie:\n",
    "\n",
    "> Dear researcher, I believe that this data is not to be trusted. I can't talk right now but will send further hints \n",
    ">throughout the week.\n",
    "\n",
    "As a researcher, you know that [data integrity](https://en.wikipedia.org/wiki/Data_integrity) is a big deal, and decide\n",
    " to investigate."
   ]
  },
  {
   "cell_type": "markdown",
   "metadata": {},
   "source": [
    "### Task 5 — 9pts\n",
    "\n",
    "The first hint you receive is: *there is something off about the kilometrage values in the data.*\n",
    "\n",
    "1. For the baseline contract and for the updated contract, plot the distribution of odometer kilometrage reported for \n",
    "the first motorcycle insured in each policy. \n",
    "2. For the first motorcycle insured by the company in each policy, plot the difference between the number of kilometers\n",
    " reported in the baseline and in the updated contract.\n",
    "3. **Discuss:** why is this data unlikely to have originated from real odometer readings?\n",
    "\n",
    "---"
   ]
  },
  {
   "cell_type": "markdown",
   "metadata": {},
   "source": [
    "### 5.1.1\n",
    "\n",
    "We decide to use a column histogram since we are supposed to plot the distribution of a single variable with many frequencies."
   ]
  },
  {
   "cell_type": "code",
   "execution_count": 33,
   "metadata": {},
   "outputs": [
    {
     "data": {
      "image/png": "[encoded data removed]",
      "text/plain": [
       "<Figure size 432x288 with 1 Axes>"
      ]
     },
     "metadata": {
      "needs_background": "light"
     },
     "output_type": "display_data"
    }
   ],
   "source": [
    "# Extracts the data\n",
    "dTop = signTop['baseline_motorcycle1']\n",
    "dBot = signBottom['baseline_motorcycle1']\n",
    "\n",
    "# Plots the histogram\n",
    "dTop.plot.hist(bins=range(0, 1000000 + 10000, 10000), alpha = 0.4)\n",
    "dBot.plot.hist(bins=range(0, 1000000 + 10000, 10000), alpha = 0.4)\n",
    "plt.legend(['Top','Bottom'])\n",
    "\n",
    "# Names the axes and the chart\n",
    "plt.xlabel('Odometer readings - km')\n",
    "plt.ylabel('Number of motorcycles')\n",
    "plt.title('Odometer kilometrage - first motorcycle baseline contract');\n",
    "plt.yscale('log')\n",
    "# Display the chart\n",
    "plt.show()"
   ]
  },
  {
   "cell_type": "markdown",
   "metadata": {},
   "source": [
    "### 5.1.2\n",
    "\n",
    "We do the same for the updated values."
   ]
  },
  {
   "cell_type": "code",
   "execution_count": 34,
   "metadata": {},
   "outputs": [
    {
     "data": {
      "image/png": "[encoded data removed]",
      "text/plain": [
       "<Figure size 432x288 with 1 Axes>"
      ]
     },
     "metadata": {
      "needs_background": "light"
     },
     "output_type": "display_data"
    }
   ],
   "source": [
    "duTop = signTop['update_motorcycle1']\n",
    "duBot = signBottom['update_motorcycle1']\n",
    "\n",
    "duTop.plot.hist(bins=range(0, 1000000 + 10000, 10000), alpha = 0.4)\n",
    "duBot.plot.hist(bins=range(0, 1000000 + 10000, 10000), alpha = 0.4)\n",
    "plt.legend(['Top','Bottom'])\n",
    "\n",
    "plt.xlabel('Odometer readings - km')\n",
    "plt.ylabel('Number of motorcycles')\n",
    "plt.title('Odometer kilometrage - first motorcycle update contract');\n",
    "plt.yscale('log')\n",
    "plt.show()"
   ]
  },
  {
   "cell_type": "markdown",
   "metadata": {},
   "source": [
    "### 5.2\n",
    "\n",
    "For the first motorcycle insured by the company in each policy, we plot the difference between the number of kilometers reported in the baseline and in the updated contract."
   ]
  },
  {
   "cell_type": "code",
   "execution_count": 35,
   "metadata": {},
   "outputs": [
    {
     "name": "stdout",
     "output_type": "stream",
     "text": [
      "maxDiff: 49997\n"
     ]
    },
    {
     "data": {
      "image/png": "[encoded data removed]",
      "text/plain": [
       "<Figure size 432x288 with 1 Axes>"
      ]
     },
     "metadata": {
      "needs_background": "light"
     },
     "output_type": "display_data"
    }
   ],
   "source": [
    "# Extract the data which is relevant, all columns with baseline_motorcycle1 and update_motorcycle1\n",
    "diffTop = duTop-dTop\n",
    "diffBot = duBot-dBot\n",
    "\n",
    "# Find the max amount of difference to adjust the histogram right\n",
    "maxDiff = int(max(diffTop.max(),diffBot.max()))\n",
    "print('maxDiff:',maxDiff)\n",
    "# Plots the data on a histogram and labeled the data\n",
    "diffTop.plot.hist(bins=range(0, maxDiff + 1000, 1000), alpha = 0.4)\n",
    "diffBot.plot.hist(bins=range(0, maxDiff + 1000, 1000), alpha = 0.4)\n",
    "plt.legend(['Top','Bottom'])\n",
    "\n",
    "# Names the axes and the chart\n",
    "plt.xlabel('Odometer readings - km')\n",
    "plt.ylabel('Number of motorcycles')\n",
    "plt.title('Odometer kilometrage - difference');\n",
    "plt.show()"
   ]
  },
  {
   "cell_type": "markdown",
   "metadata": {},
   "source": [
    "### 5.3\n",
    "\n",
    "From the **Figure above** it seems that those who signed at the bottom of the page register a lower difference between the baseline and the updated contract. While the people who sign on the top register higher differences. That may indicate that that the ones who signed at the top might be more honest because they would lose out on reporting a higher difference. \n",
    "\n",
    "For the baseline kilometrage, the people who signed at the top registered a higher amount of small kilometrages, while the difference for larger values is not that big. The same applies for the updated contracts."
   ]
  },
  {
   "cell_type": "markdown",
   "metadata": {},
   "source": [
    "### Task 6 — 15pts\n",
    "\n",
    "The second hint you receive is: *there is something off with the last digits of the reported kilometrages.*\n",
    "\n",
    "1. Considering the baseline kilometrage of the first motorcycle in each contract (`baseline_motorcycle1`), plot the \n",
    "distribution of occurrences of the last three digits. Repeat the same for the updated kilometrage of the first \n",
    "motorcycle in each contract (`update_motorcycle1`).\n",
    "\n",
    "3. **Discuss:** What are the differences between the two distributions?\n",
    "\n",
    "4. **Discuss:** Hypothesize a **plausible** cause for the patterns observed in the digit distribution of the baseline\n",
    " kilometrage of the first motorcycle.\n",
    "    \n",
    "---\n",
    "\n",
    "**Hint:** The last two digits of the number 12314 are 314. Note that you should consider the three last digits together,\n",
    " not separately!"
   ]
  },
  {
   "cell_type": "markdown",
   "metadata": {},
   "source": [
    "### 6.1"
   ]
  },
  {
   "cell_type": "code",
   "execution_count": 59,
   "metadata": {
    "scrolled": true
   },
   "outputs": [
    {
     "data": {
      "image/png": "[encoded data removed]",
      "text/plain": [
       "<Figure size 432x288 with 1 Axes>"
      ]
     },
     "metadata": {
      "needs_background": "light"
     },
     "output_type": "display_data"
    }
   ],
   "source": [
    "# We take the modulo 1000 of the column which gives the last three digits\n",
    "baseline_1 = (data['baseline_motorcycle1'])% 1000\n",
    "# Same for the updated contracts\n",
    "update_1 = data['update_motorcycle1']%1000\n",
    "\n",
    "# Plot the distribution of occurrences: \n",
    "plt.hist([baseline_1], bins = 300, label = [\"Baseline contract for motorcycle1\"])\n",
    "plt.legend() \n",
    "plt.xlabel('Last three digits')\n",
    "plt.ylabel('Number of occurrences')\n",
    "plt.show()"
   ]
  },
  {
   "cell_type": "code",
   "execution_count": 37,
   "metadata": {},
   "outputs": [
    {
     "data": {
      "text/plain": [
       "(12596,)"
      ]
     },
     "execution_count": 37,
     "metadata": {},
     "output_type": "execute_result"
    }
   ],
   "source": [
    "update_1.shape"
   ]
  },
  {
   "cell_type": "code",
   "execution_count": 51,
   "metadata": {},
   "outputs": [
    {
     "data": {
      "text/plain": [
       "(1322,)"
      ]
     },
     "execution_count": 51,
     "metadata": {},
     "output_type": "execute_result"
    }
   ],
   "source": [
    "baseline_1[baseline_1 == 000].shape"
   ]
  },
  {
   "cell_type": "markdown",
   "metadata": {},
   "source": [
    "### 6.2\n",
    "We can see that here is a lot of motorcycles in the baseline contract that have an odomoter that finish in the neighborhood of 000. Also, we can see that the distribution is concentrated around the round numbers especially those begining with an odd number. "
   ]
  },
  {
   "cell_type": "code",
   "execution_count": 39,
   "metadata": {},
   "outputs": [
    {
     "data": {
      "image/png": "[encoded data removed]",
      "text/plain": [
       "<Figure size 432x288 with 1 Axes>"
      ]
     },
     "metadata": {
      "needs_background": "light"
     },
     "output_type": "display_data"
    }
   ],
   "source": [
    "# Plot the distribution of occurrences: \n",
    "plt.hist([baseline_1, update_1], bins =1000, label = [\"Baseline contract for motorcycle1\", \"Update contract for motorcyce1\"])\n",
    "plt.legend() \n",
    "plt.xlabel('Last three digits')\n",
    "plt.ylabel('Number of occurrences')\n",
    "plt.yscale('log')\n",
    "plt.show()"
   ]
  },
  {
   "cell_type": "markdown",
   "metadata": {},
   "source": [
    "In addition, if we modify the bins to 1000 (meaning the size of the of the x-abscissa) we can see that there is a big number of motorcycle in the baseline contract that have an odometre near to 500. On the other hand, in the updated contracts we can see a more homogeneous distribution of the three last digits. "
   ]
  },
  {
   "cell_type": "markdown",
   "metadata": {},
   "source": [
    "### 6.3\n",
    "We can argue that a pausible cause of the digit distribution is that people lie and group the endings around round numbers. In the baseline contract the signature is asked at the end of the document and so, as suggested in this project, the people are more willing to lie (give grouped numbers). We can not recognize this pattern with the updated contract where about 50% of the people signed at the top. The fact that there are a lot of numbers finishing around 000 can be explain by new motorcycles in the baseline contract. To check that there is a lot of new motorcycles and not some other datacorruption we can lookup the motorcycles with less odometer than 10 in the baseline:"
   ]
  },
  {
   "cell_type": "code",
   "execution_count": 40,
   "metadata": {
    "scrolled": true
   },
   "outputs": [
    {
     "data": {
      "text/html": [
       "<div>\n",
       "<style scoped>\n",
       "    .dataframe tbody tr th:only-of-type {\n",
       "        vertical-align: middle;\n",
       "    }\n",
       "\n",
       "    .dataframe tbody tr th {\n",
       "        vertical-align: top;\n",
       "    }\n",
       "\n",
       "    .dataframe thead th {\n",
       "        text-align: right;\n",
       "    }\n",
       "</style>\n",
       "<table border=\"1\" class=\"dataframe\">\n",
       "  <thead>\n",
       "    <tr style=\"text-align: right;\">\n",
       "      <th></th>\n",
       "      <th>condition</th>\n",
       "      <th>id</th>\n",
       "      <th>baseline_motorcycle1</th>\n",
       "      <th>update_motorcycle1</th>\n",
       "      <th>baseline_motorcycle2</th>\n",
       "      <th>update_motorcycle2</th>\n",
       "      <th>baseline_motorcycle3</th>\n",
       "      <th>update_motorcycle3</th>\n",
       "      <th>baseline_motorcycle4</th>\n",
       "      <th>update_motorcycle4</th>\n",
       "      <th>motorcycle_count</th>\n",
       "      <th>baseline_average</th>\n",
       "      <th>update_average</th>\n",
       "      <th>diff_average</th>\n",
       "    </tr>\n",
       "  </thead>\n",
       "  <tbody>\n",
       "    <tr>\n",
       "      <th>112</th>\n",
       "      <td>Sign Top</td>\n",
       "      <td>119</td>\n",
       "      <td>0</td>\n",
       "      <td>20345</td>\n",
       "      <td>NaN</td>\n",
       "      <td>NaN</td>\n",
       "      <td>NaN</td>\n",
       "      <td>NaN</td>\n",
       "      <td>NaN</td>\n",
       "      <td>NaN</td>\n",
       "      <td>1</td>\n",
       "      <td>0.000000</td>\n",
       "      <td>20345.000000</td>\n",
       "      <td>20345.0</td>\n",
       "    </tr>\n",
       "    <tr>\n",
       "      <th>123</th>\n",
       "      <td>Sign Top</td>\n",
       "      <td>130</td>\n",
       "      <td>0</td>\n",
       "      <td>19287</td>\n",
       "      <td>NaN</td>\n",
       "      <td>NaN</td>\n",
       "      <td>NaN</td>\n",
       "      <td>NaN</td>\n",
       "      <td>NaN</td>\n",
       "      <td>NaN</td>\n",
       "      <td>1</td>\n",
       "      <td>0.000000</td>\n",
       "      <td>19287.000000</td>\n",
       "      <td>19287.0</td>\n",
       "    </tr>\n",
       "    <tr>\n",
       "      <th>149</th>\n",
       "      <td>Sign Top</td>\n",
       "      <td>157</td>\n",
       "      <td>2</td>\n",
       "      <td>15341</td>\n",
       "      <td>NaN</td>\n",
       "      <td>NaN</td>\n",
       "      <td>NaN</td>\n",
       "      <td>NaN</td>\n",
       "      <td>NaN</td>\n",
       "      <td>NaN</td>\n",
       "      <td>1</td>\n",
       "      <td>2.000000</td>\n",
       "      <td>15341.000000</td>\n",
       "      <td>15339.0</td>\n",
       "    </tr>\n",
       "    <tr>\n",
       "      <th>200</th>\n",
       "      <td>Sign Top</td>\n",
       "      <td>213</td>\n",
       "      <td>5</td>\n",
       "      <td>31002</td>\n",
       "      <td>NaN</td>\n",
       "      <td>NaN</td>\n",
       "      <td>NaN</td>\n",
       "      <td>NaN</td>\n",
       "      <td>NaN</td>\n",
       "      <td>NaN</td>\n",
       "      <td>1</td>\n",
       "      <td>5.000000</td>\n",
       "      <td>31002.000000</td>\n",
       "      <td>30997.0</td>\n",
       "    </tr>\n",
       "    <tr>\n",
       "      <th>345</th>\n",
       "      <td>Sign Top</td>\n",
       "      <td>367</td>\n",
       "      <td>5</td>\n",
       "      <td>40044</td>\n",
       "      <td>16565.0</td>\n",
       "      <td>25368.0</td>\n",
       "      <td>NaN</td>\n",
       "      <td>NaN</td>\n",
       "      <td>NaN</td>\n",
       "      <td>NaN</td>\n",
       "      <td>2</td>\n",
       "      <td>8285.000000</td>\n",
       "      <td>32706.000000</td>\n",
       "      <td>24421.0</td>\n",
       "    </tr>\n",
       "    <tr>\n",
       "      <th>...</th>\n",
       "      <td>...</td>\n",
       "      <td>...</td>\n",
       "      <td>...</td>\n",
       "      <td>...</td>\n",
       "      <td>...</td>\n",
       "      <td>...</td>\n",
       "      <td>...</td>\n",
       "      <td>...</td>\n",
       "      <td>...</td>\n",
       "      <td>...</td>\n",
       "      <td>...</td>\n",
       "      <td>...</td>\n",
       "      <td>...</td>\n",
       "      <td>...</td>\n",
       "    </tr>\n",
       "    <tr>\n",
       "      <th>12219</th>\n",
       "      <td>Sign Top</td>\n",
       "      <td>13077</td>\n",
       "      <td>6</td>\n",
       "      <td>24011</td>\n",
       "      <td>NaN</td>\n",
       "      <td>NaN</td>\n",
       "      <td>NaN</td>\n",
       "      <td>NaN</td>\n",
       "      <td>NaN</td>\n",
       "      <td>NaN</td>\n",
       "      <td>1</td>\n",
       "      <td>6.000000</td>\n",
       "      <td>24011.000000</td>\n",
       "      <td>24005.0</td>\n",
       "    </tr>\n",
       "    <tr>\n",
       "      <th>12248</th>\n",
       "      <td>Sign Top</td>\n",
       "      <td>13110</td>\n",
       "      <td>0</td>\n",
       "      <td>34340</td>\n",
       "      <td>NaN</td>\n",
       "      <td>NaN</td>\n",
       "      <td>NaN</td>\n",
       "      <td>NaN</td>\n",
       "      <td>NaN</td>\n",
       "      <td>NaN</td>\n",
       "      <td>1</td>\n",
       "      <td>0.000000</td>\n",
       "      <td>34340.000000</td>\n",
       "      <td>34340.0</td>\n",
       "    </tr>\n",
       "    <tr>\n",
       "      <th>12463</th>\n",
       "      <td>Sign Top</td>\n",
       "      <td>13339</td>\n",
       "      <td>0</td>\n",
       "      <td>48464</td>\n",
       "      <td>NaN</td>\n",
       "      <td>NaN</td>\n",
       "      <td>NaN</td>\n",
       "      <td>NaN</td>\n",
       "      <td>NaN</td>\n",
       "      <td>NaN</td>\n",
       "      <td>1</td>\n",
       "      <td>0.000000</td>\n",
       "      <td>48464.000000</td>\n",
       "      <td>48464.0</td>\n",
       "    </tr>\n",
       "    <tr>\n",
       "      <th>12494</th>\n",
       "      <td>Sign Bottom</td>\n",
       "      <td>13375</td>\n",
       "      <td>0</td>\n",
       "      <td>33153</td>\n",
       "      <td>59280.0</td>\n",
       "      <td>95666.0</td>\n",
       "      <td>94400.0</td>\n",
       "      <td>133206.0</td>\n",
       "      <td>NaN</td>\n",
       "      <td>NaN</td>\n",
       "      <td>3</td>\n",
       "      <td>51226.666667</td>\n",
       "      <td>87341.666667</td>\n",
       "      <td>36115.0</td>\n",
       "    </tr>\n",
       "    <tr>\n",
       "      <th>12587</th>\n",
       "      <td>Sign Top</td>\n",
       "      <td>13477</td>\n",
       "      <td>0</td>\n",
       "      <td>3630</td>\n",
       "      <td>NaN</td>\n",
       "      <td>NaN</td>\n",
       "      <td>NaN</td>\n",
       "      <td>NaN</td>\n",
       "      <td>NaN</td>\n",
       "      <td>NaN</td>\n",
       "      <td>1</td>\n",
       "      <td>0.000000</td>\n",
       "      <td>3630.000000</td>\n",
       "      <td>3630.0</td>\n",
       "    </tr>\n",
       "  </tbody>\n",
       "</table>\n",
       "<p>168 rows × 14 columns</p>\n",
       "</div>"
      ],
      "text/plain": [
       "         condition     id  baseline_motorcycle1  update_motorcycle1  \\\n",
       "112       Sign Top    119                     0               20345   \n",
       "123       Sign Top    130                     0               19287   \n",
       "149       Sign Top    157                     2               15341   \n",
       "200       Sign Top    213                     5               31002   \n",
       "345       Sign Top    367                     5               40044   \n",
       "...            ...    ...                   ...                 ...   \n",
       "12219     Sign Top  13077                     6               24011   \n",
       "12248     Sign Top  13110                     0               34340   \n",
       "12463     Sign Top  13339                     0               48464   \n",
       "12494  Sign Bottom  13375                     0               33153   \n",
       "12587     Sign Top  13477                     0                3630   \n",
       "\n",
       "       baseline_motorcycle2  update_motorcycle2  baseline_motorcycle3  \\\n",
       "112                     NaN                 NaN                   NaN   \n",
       "123                     NaN                 NaN                   NaN   \n",
       "149                     NaN                 NaN                   NaN   \n",
       "200                     NaN                 NaN                   NaN   \n",
       "345                 16565.0             25368.0                   NaN   \n",
       "...                     ...                 ...                   ...   \n",
       "12219                   NaN                 NaN                   NaN   \n",
       "12248                   NaN                 NaN                   NaN   \n",
       "12463                   NaN                 NaN                   NaN   \n",
       "12494               59280.0             95666.0               94400.0   \n",
       "12587                   NaN                 NaN                   NaN   \n",
       "\n",
       "       update_motorcycle3  baseline_motorcycle4  update_motorcycle4  \\\n",
       "112                   NaN                   NaN                 NaN   \n",
       "123                   NaN                   NaN                 NaN   \n",
       "149                   NaN                   NaN                 NaN   \n",
       "200                   NaN                   NaN                 NaN   \n",
       "345                   NaN                   NaN                 NaN   \n",
       "...                   ...                   ...                 ...   \n",
       "12219                 NaN                   NaN                 NaN   \n",
       "12248                 NaN                   NaN                 NaN   \n",
       "12463                 NaN                   NaN                 NaN   \n",
       "12494            133206.0                   NaN                 NaN   \n",
       "12587                 NaN                   NaN                 NaN   \n",
       "\n",
       "       motorcycle_count  baseline_average  update_average  diff_average  \n",
       "112                   1          0.000000    20345.000000       20345.0  \n",
       "123                   1          0.000000    19287.000000       19287.0  \n",
       "149                   1          2.000000    15341.000000       15339.0  \n",
       "200                   1          5.000000    31002.000000       30997.0  \n",
       "345                   2       8285.000000    32706.000000       24421.0  \n",
       "...                 ...               ...             ...           ...  \n",
       "12219                 1          6.000000    24011.000000       24005.0  \n",
       "12248                 1          0.000000    34340.000000       34340.0  \n",
       "12463                 1          0.000000    48464.000000       48464.0  \n",
       "12494                 3      51226.666667    87341.666667       36115.0  \n",
       "12587                 1          0.000000     3630.000000        3630.0  \n",
       "\n",
       "[168 rows x 14 columns]"
      ]
     },
     "execution_count": 40,
     "metadata": {},
     "output_type": "execute_result"
    }
   ],
   "source": [
    "data.loc[data.baseline_motorcycle1 < 10]"
   ]
  },
  {
   "cell_type": "markdown",
   "metadata": {},
   "source": [
    "We can see that there are a lot of new motorcycles in the baseline."
   ]
  },
  {
   "cell_type": "markdown",
   "metadata": {},
   "source": [
    "### Task 7 — 15pts\n",
    "\n",
    "The third (and last) hint you receive is: *there is something wrong with the fonts.*\n",
    "\n",
    "Your anonymous source explains that the `.tsv` file sent to you was derived from an Excel sheet. There, some of the rows\n",
    " were written in the font *Helvetica* while others were written in the font *Arial*. Your anonymous source sends you a \n",
    " file with the relation between policy id and the font used in the respective row (`fonts.csv`), and tells you that the\n",
    "  rows with *Helvetica* font were fabricated.\n",
    "\n",
    "1. Load `fonts.csv` and merge the `font` column into your pandas dataframe.\n",
    "2. Considering only the kilometrage of the first motorcycle in each policy, calculate the number of rows with the Arial \n",
    "and the Helvetica font, respectively. Also, plot the distribution of baseline kilometers for rows with the Arial font \n",
    "and for rows with the Helvetica font.\n",
    "3. Similar to what was done in task 6. Plot the distribution of the last three digits for 1) the first motorcycle in \n",
    "each baseline contract (`baseline_motorcycle1`); and 2) the first motorcycle in each updated contract\n",
    " (`update_motorcycle1`).\n",
    "4. **Discuss:** Why do these analyses provide evidence that the rows with Helvetica font were fabricated?\n",
    "\n",
    "---"
   ]
  },
  {
   "cell_type": "markdown",
   "metadata": {},
   "source": [
    "### 7.1\n",
    "\n",
    "We are supposed to merge the font column into our main dataframe."
   ]
  },
  {
   "cell_type": "code",
   "execution_count": 41,
   "metadata": {},
   "outputs": [
    {
     "data": {
      "text/html": [
       "<div>\n",
       "<style scoped>\n",
       "    .dataframe tbody tr th:only-of-type {\n",
       "        vertical-align: middle;\n",
       "    }\n",
       "\n",
       "    .dataframe tbody tr th {\n",
       "        vertical-align: top;\n",
       "    }\n",
       "\n",
       "    .dataframe thead th {\n",
       "        text-align: right;\n",
       "    }\n",
       "</style>\n",
       "<table border=\"1\" class=\"dataframe\">\n",
       "  <thead>\n",
       "    <tr style=\"text-align: right;\">\n",
       "      <th></th>\n",
       "      <th>condition</th>\n",
       "      <th>id</th>\n",
       "      <th>baseline_motorcycle1</th>\n",
       "      <th>update_motorcycle1</th>\n",
       "      <th>baseline_motorcycle2</th>\n",
       "      <th>update_motorcycle2</th>\n",
       "      <th>baseline_motorcycle3</th>\n",
       "      <th>update_motorcycle3</th>\n",
       "      <th>baseline_motorcycle4</th>\n",
       "      <th>update_motorcycle4</th>\n",
       "      <th>motorcycle_count</th>\n",
       "      <th>baseline_average</th>\n",
       "      <th>update_average</th>\n",
       "      <th>diff_average</th>\n",
       "      <th>font</th>\n",
       "    </tr>\n",
       "  </thead>\n",
       "  <tbody>\n",
       "    <tr>\n",
       "      <th>12593</th>\n",
       "      <td>Sign Bottom</td>\n",
       "      <td>13486</td>\n",
       "      <td>30700</td>\n",
       "      <td>32916</td>\n",
       "      <td>89680.0</td>\n",
       "      <td>139570.0</td>\n",
       "      <td>NaN</td>\n",
       "      <td>NaN</td>\n",
       "      <td>NaN</td>\n",
       "      <td>NaN</td>\n",
       "      <td>2</td>\n",
       "      <td>60190.0</td>\n",
       "      <td>86243.0</td>\n",
       "      <td>26053.0</td>\n",
       "      <td>Helvetica</td>\n",
       "    </tr>\n",
       "    <tr>\n",
       "      <th>12594</th>\n",
       "      <td>Sign Top</td>\n",
       "      <td>13487</td>\n",
       "      <td>29884</td>\n",
       "      <td>35459</td>\n",
       "      <td>NaN</td>\n",
       "      <td>NaN</td>\n",
       "      <td>NaN</td>\n",
       "      <td>NaN</td>\n",
       "      <td>NaN</td>\n",
       "      <td>NaN</td>\n",
       "      <td>1</td>\n",
       "      <td>29884.0</td>\n",
       "      <td>35459.0</td>\n",
       "      <td>5575.0</td>\n",
       "      <td>Helvetica</td>\n",
       "    </tr>\n",
       "    <tr>\n",
       "      <th>12595</th>\n",
       "      <td>Sign Top</td>\n",
       "      <td>13488</td>\n",
       "      <td>22930</td>\n",
       "      <td>37888</td>\n",
       "      <td>NaN</td>\n",
       "      <td>NaN</td>\n",
       "      <td>NaN</td>\n",
       "      <td>NaN</td>\n",
       "      <td>NaN</td>\n",
       "      <td>NaN</td>\n",
       "      <td>1</td>\n",
       "      <td>22930.0</td>\n",
       "      <td>37888.0</td>\n",
       "      <td>14958.0</td>\n",
       "      <td>Helvetica</td>\n",
       "    </tr>\n",
       "  </tbody>\n",
       "</table>\n",
       "</div>"
      ],
      "text/plain": [
       "         condition     id  baseline_motorcycle1  update_motorcycle1  \\\n",
       "12593  Sign Bottom  13486                 30700               32916   \n",
       "12594     Sign Top  13487                 29884               35459   \n",
       "12595     Sign Top  13488                 22930               37888   \n",
       "\n",
       "       baseline_motorcycle2  update_motorcycle2  baseline_motorcycle3  \\\n",
       "12593               89680.0            139570.0                   NaN   \n",
       "12594                   NaN                 NaN                   NaN   \n",
       "12595                   NaN                 NaN                   NaN   \n",
       "\n",
       "       update_motorcycle3  baseline_motorcycle4  update_motorcycle4  \\\n",
       "12593                 NaN                   NaN                 NaN   \n",
       "12594                 NaN                   NaN                 NaN   \n",
       "12595                 NaN                   NaN                 NaN   \n",
       "\n",
       "       motorcycle_count  baseline_average  update_average  diff_average  \\\n",
       "12593                 2           60190.0         86243.0       26053.0   \n",
       "12594                 1           29884.0         35459.0        5575.0   \n",
       "12595                 1           22930.0         37888.0       14958.0   \n",
       "\n",
       "            font  \n",
       "12593  Helvetica  \n",
       "12594  Helvetica  \n",
       "12595  Helvetica  "
      ]
     },
     "execution_count": 41,
     "metadata": {},
     "output_type": "execute_result"
    }
   ],
   "source": [
    "# Get the font data from the csv to a dataframe\n",
    "fonts = pd.read_csv('data/fonts.csv', sep = ',', on_bad_lines='skip')\n",
    "# Before merging we need to drop the same rows that we dropped in data in task 2 on=\"ID\"\n",
    "dataWFonts = pd.merge(data, fonts, on=\"id\")\n",
    "# Check the new dataframe\n",
    "dataWFonts.tail(3)"
   ]
  },
  {
   "cell_type": "markdown",
   "metadata": {},
   "source": [
    "### 7.2\n",
    "\n",
    "We are supposed to calculate the amount of rows with Helvetica and Arial respectivly. Then we should plot the baseline kilometrage distribution for the rows with the different font for the first motorcycle only."
   ]
  },
  {
   "cell_type": "code",
   "execution_count": 42,
   "metadata": {},
   "outputs": [
    {
     "name": "stdout",
     "output_type": "stream",
     "text": [
      "helvetica id      6743\n",
      "font    6743\n",
      "dtype: int64\n",
      "arial id      6744\n",
      "font    6744\n",
      "dtype: int64\n"
     ]
    }
   ],
   "source": [
    "# Make a dataframe with only helvetica\n",
    "helveticaF = fonts[(fonts['font'] == 'Helvetica')]\n",
    "# Count rows\n",
    "helveticaNum = helveticaF.count()\n",
    "# Print amout of helvetica rows\n",
    "print('helvetica', helveticaNum)\n",
    "\n",
    "# Make dataframe with only arial\n",
    "arialF = fonts[(fonts['font'] == 'Arial')]\n",
    "# Count rows\n",
    "arialNum = arialF.count()\n",
    "# Print amount of arial rows\n",
    "print('arial', arialNum)"
   ]
  },
  {
   "cell_type": "markdown",
   "metadata": {},
   "source": [
    "We can see the number of rows with arial and helvetica fonts are almost the same."
   ]
  },
  {
   "cell_type": "code",
   "execution_count": 43,
   "metadata": {},
   "outputs": [
    {
     "data": {
      "image/png": "[encoded data removed]",
      "text/plain": [
       "<Figure size 432x288 with 1 Axes>"
      ]
     },
     "metadata": {
      "needs_background": "light"
     },
     "output_type": "display_data"
    }
   ],
   "source": [
    "# Plot of distribution for baseline kilometrage for the rows with the different font for first motorcycle only\n",
    "# Make a dataset with all the data, but only helvetica rows\n",
    "helvetica = dataWFonts[(dataWFonts['font'] == 'Helvetica')]\n",
    "# Make a dataset with all the data, but only arial rows\n",
    "arial = dataWFonts[(dataWFonts['font'] == 'Arial')]\n",
    "\n",
    "helvetica['baseline_motorcycle1'].plot.hist(bins=range(0, 1000000 + 10000, 10000), alpha=0.5)\n",
    "arial['baseline_motorcycle1'].plot.hist(bins=range(0, 1000000 + 10000, 10000), alpha=0.5)\n",
    "plt.title('Kilometrage distribution in baseline for motorcycle 1')\n",
    "plt.legend(['Helvetica','Arial'])\n",
    "plt.xlabel('Kilometrage')\n",
    "plt.ylabel('Number of occurrences')\n",
    "plt.yscale('log')\n",
    "plt.show()"
   ]
  },
  {
   "cell_type": "markdown",
   "metadata": {},
   "source": [
    "### 7.3.1"
   ]
  },
  {
   "cell_type": "code",
   "execution_count": 44,
   "metadata": {
    "scrolled": true
   },
   "outputs": [
    {
     "data": {
      "image/png": "[encoded data removed]",
      "text/plain": [
       "<Figure size 432x288 with 1 Axes>"
      ]
     },
     "metadata": {
      "needs_background": "light"
     },
     "output_type": "display_data"
    }
   ],
   "source": [
    "# We repeat the task 6.1 for contracts in helvetica form: \n",
    "baseline_h1 = helvetica['baseline_motorcycle1']% 1000 \n",
    "update_h1 = helvetica['update_motorcycle1']%1000 \n",
    "plt.hist([baseline_h1, update_h1], bins=range(0, 1000 + 20, 20), label = [\"Baseline contract for motorcycle1\", \"Update contract for motorcyce1\"])\n",
    "plt.legend() \n",
    "plt.xlabel('Last three digits')\n",
    "plt.ylabel('Number of occurrences')\n",
    "plt.title('Distribution of the last three digits for first motorcycle - Helvetica')\n",
    "plt.show()"
   ]
  },
  {
   "cell_type": "markdown",
   "metadata": {},
   "source": [
    "### 7.3.2"
   ]
  },
  {
   "cell_type": "code",
   "execution_count": 45,
   "metadata": {
    "scrolled": true
   },
   "outputs": [
    {
     "data": {
      "image/png": "[encoded data removed]",
      "text/plain": [
       "<Figure size 432x288 with 1 Axes>"
      ]
     },
     "metadata": {
      "needs_background": "light"
     },
     "output_type": "display_data"
    }
   ],
   "source": [
    "# We repeat the task 6.1 for contracts in arial form: \n",
    "baseline_a1 = arial['baseline_motorcycle1']%1000\n",
    "update_a1 = arial ['update_motorcycle1']%1000\n",
    "plt.hist([baseline_a1, update_a1], bins=range(0, 1000 + 20, 20), label= [\"Baseline contract for motorcycle 1\", \"Update contract for motorcycle 1\"])\n",
    "plt.legend()\n",
    "plt.xlabel('Last three digits')\n",
    "plt.ylabel('Number of occurences')\n",
    "plt.yscale('log')\n",
    "plt.title('Distribution of the last three digits for first motorcycle - Arial')\n",
    "plt.show()"
   ]
  },
  {
   "cell_type": "markdown",
   "metadata": {},
   "source": [
    "### 7.4\n",
    "\n",
    "It appears that rows with Helvetica font have been fabricated as they seem to be generated from a uniform distribution, which is almost impossible to achieve because many people have difficulty in generating random numbers **with equally likely outcomes.** \n",
    "reference = https://www.tandfonline.com/doi/abs/10.1080/08989629508573866.\n",
    "\n",
    "This reference highlights that **\"The present paper shows that even with a conscious effort to construct random digits, many subjects are unable to produce digits with a uniform distribution.\"**\n",
    "\n",
    "\n",
    "Unlike the rows with Arial fonts, which appear to be generated from a Heavy-tailed distribution. "
   ]
  },
  {
   "cell_type": "markdown",
   "metadata": {},
   "source": [
    "### Task 8 — 15pts\n",
    "\n",
    "You've had enough! You decide to write an email to your PI (principal investigator, also known as \"your boss\") reporting\n",
    " the oddities you have observed in the data. Write a (brief) text (in markdown) of up to 300 words. Your text should:\n",
    "\n",
    "- Use the analyses you did to make a convincing case that the data has been tampered with. \n",
    "- Grounded in your analyses, provide a plausible hypothesis about how the data has been tampered with.\n",
    "- Discuss whether the data leads to the conclusion that signing at the top decreases dishonesty.\n",
    "\n",
    "Structure your text into three bullets, analogous to the ones above.\n",
    "\n",
    "You can reference images present in the notebook by indicating a task (e.g., image plotted in Task 3.3) or a cell \n",
    "number.\n",
    "\n",
    "Note that you do not need to conduct any additional analysis to write this text. If you do, the code should be at the \n",
    "end of this notebook, i.e., after your answer.\n",
    "\n",
    "---\n",
    "\n",
    "**Hint:** The data has been tampered with in more than one way."
   ]
  },
  {
   "cell_type": "markdown",
   "metadata": {},
   "source": [
    "### 8\n",
    "\n",
    "1. Use the analyses you did to make a convincing case that the data has been tampered with.\n",
    "    - The data has clearly been tampered with. First, we can say that the contracts for updates policies were not given out at random, in fact, we can see that in the task 5, there are more people with new motorcycles, meaning with very low odometers kilometrage, who got to sign at the top of the document. This may distort our results. In addition, we showed in the task 7 that the rows of the Helvetica font have been fabricated as a result of the uniform distribution which can’t be possible. Indeed, as mentioned in section 7.4, it is not possible for humans to generate a uniform distribution. This shows that the data were fabricated.\n",
    "2. Grounded in your analyses, provide a plausible hypothesis about how the data has been tampered with.\n",
    "    - As mentioned in section 7.4, it is not possible for humans to generate a uniform distribution. We believe that the data could have been generated using a computer number generator.\n",
    "3. Discuss whether the data leads to the conclusion that signing at the top decreases dishonesty.\n",
    "    - From our analysis, we showed in the task 5 that at a higher odometer reading the difference between the updated and baseline contract was higher for signing at the top.  But we also get that those who signed at the bottom have higher mean of odometer readings than those who signed at the top. Besides, the t-test carried out in the previous tasks confirms that when signing at the bottom, the odometer kilometrage is higher that signing at the bottom. We then reach the conclusion that signing at the top does not decrease dishonesty. Nevertheless, we think that the experiment should be repeated using real/unfabricated data to draw a conclusion."
   ]
  }
 ],
 "metadata": {
  "kernelspec": {
   "display_name": "Python 3 (ipykernel)",
   "language": "python",
   "name": "python3"
  },
  "language_info": {
   "codemirror_mode": {
    "name": "ipython",
    "version": 3
   },
   "file_extension": ".py",
   "mimetype": "text/x-python",
   "name": "python",
   "nbconvert_exporter": "python",
   "pygments_lexer": "ipython3",
   "version": "3.9.1"
  },
  "pycharm": {
   "stem_cell": {
    "cell_type": "raw",
    "metadata": {
     "collapsed": false
    },
    "source": []
   }
  }
 },
 "nbformat": 4,
 "nbformat_minor": 1
}
